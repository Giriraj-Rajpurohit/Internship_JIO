{
 "cells": [
  {
   "cell_type": "code",
   "execution_count": 7,
   "id": "cb98392c-9984-4396-9524-2d36fb18db60",
   "metadata": {},
   "outputs": [
    {
     "data": {
      "application/vnd.jupyter.widget-view+json": {
       "model_id": "9c28899f138d42728aeceeb2e492c7f7",
       "version_major": 2,
       "version_minor": 0
      },
      "text/plain": [
       "Fetching show details:   0%|          | 0/11491 [00:00<?, ?it/s]"
      ]
     },
     "metadata": {},
     "output_type": "display_data"
    },
    {
     "name": "stderr",
     "output_type": "stream",
     "text": [
      "/Users/girirajpurohit23/anaconda3/envs/myenv/lib/python3.11/asyncio/base_events.py:782: RuntimeWarning: coroutine 'main' was never awaited\n",
      "  handle = events.Handle(callback, args, self, context)\n",
      "RuntimeWarning: Enable tracemalloc to get the object allocation traceback\n"
     ]
    },
    {
     "name": "stdout",
     "output_type": "stream",
     "text": [
      "Details saved to 'omdb_episodes.json'\n"
     ]
    }
   ],
   "source": [
    "import aiohttp\n",
    "import asyncio\n",
    "import pandas as pd\n",
    "import json\n",
    "from tqdm.notebook import tqdm\n",
    "from aiohttp import ClientSession\n",
    "\n",
    "API_KEY = '593e3b55'\n",
    "BASE_URL = 'http://www.omdbapi.com/'\n",
    "\n",
    "\n",
    "CONCURRENT_REQUESTS = 50  # Adjust as needed\n",
    "\n",
    "async def search_show_by_name(session, name):\n",
    "    url = f'{BASE_URL}?apikey={API_KEY}&t={name}&type=series'\n",
    "    try:\n",
    "        async with session.get(url) as response:\n",
    "            data = await response.json()\n",
    "            if data.get('Response') == 'True':\n",
    "                return data\n",
    "            return None\n",
    "    except Exception:\n",
    "        return None\n",
    "\n",
    "async def get_show_episodes(session, imdb_id, season_number):\n",
    "    url = f'{BASE_URL}?apikey={API_KEY}&i={imdb_id}&Season={season_number}'\n",
    "    try:\n",
    "        async with session.get(url) as response:\n",
    "            data = await response.json()\n",
    "            if data.get('Response') == 'True':\n",
    "                return data.get('Episodes', [])\n",
    "            return None\n",
    "    except Exception:\n",
    "        return None\n",
    "\n",
    "async def fetch_show_details(df):\n",
    "    semaphore = asyncio.Semaphore(CONCURRENT_REQUESTS)\n",
    "    \n",
    "    async def fetch_show(show_name):\n",
    "        async with semaphore:\n",
    "            search_result = await search_show_by_name(session, show_name)\n",
    "            if search_result:\n",
    "                show_title = search_result.get('Title')\n",
    "                if show_title.lower() != show_name.lower():\n",
    "                    return None\n",
    "\n",
    "                imdb_id = search_result['imdbID']\n",
    "                show_details = {\n",
    "                    'title': show_title,\n",
    "                    'overview': search_result.get('Plot'),\n",
    "                    'seasons': {}\n",
    "                }\n",
    "                \n",
    "               \n",
    "                for season_number in range(1, 11):\n",
    "                    episodes = await get_show_episodes(session, imdb_id, season_number)\n",
    "                    if episodes:\n",
    "                        show_details['seasons'][season_number] = []\n",
    "                        for episode in episodes:\n",
    "                            episode_info = {\n",
    "                                'episode_number': episode['Episode'],\n",
    "                                'episode_title': episode['Title'],\n",
    "                                'episode_overview': episode.get('Plot', ''),\n",
    "                                'air_date': episode['Released']\n",
    "                            }\n",
    "                            show_details['seasons'][season_number].append(episode_info)\n",
    "                \n",
    "                return {show_name: show_details}\n",
    "            return None\n",
    "    \n",
    "    # Track progress with tqdm\n",
    "    async with ClientSession() as session:\n",
    "        tasks = [fetch_show(show_name) for show_name in df['name']]\n",
    "        results = []\n",
    "        \n",
    "        for future in tqdm(asyncio.as_completed(tasks), total=len(tasks), desc=\"Fetching show details\"):\n",
    "            result = await future\n",
    "            if result:\n",
    "                results.append(result)\n",
    "    \n",
    "    shows_dict = {k: v for result in results if result for k, v in result.items()}\n",
    "    \n",
    "    \n",
    "    with open('omdb_episodes.json', 'w', encoding='utf-8') as json_file:\n",
    "        json.dump(shows_dict, json_file, ensure_ascii=False, indent=4)\n",
    "    \n",
    "    print(\"Details saved to 'omdb_episodes.json'\")\n",
    "\n",
    "\n",
    "df = pd.read_csv('final_data.csv') \n",
    "\n",
    "\n",
    "await fetch_show_details(df)\n"
   ]
  },
  {
   "cell_type": "code",
   "execution_count": 31,
   "id": "716b540d-a3a6-4f4f-8b72-4fee565e8cbb",
   "metadata": {},
   "outputs": [
    {
     "name": "stderr",
     "output_type": "stream",
     "text": [
      "                                                                                \r"
     ]
    },
    {
     "name": "stdout",
     "output_type": "stream",
     "text": [
      "Details saved to 'shows_details.json'\n"
     ]
    }
   ],
   "source": [
    "import requests\n",
    "import pandas as pd\n",
    "from tqdm import tqdm\n",
    "import json\n",
    "from concurrent.futures import ThreadPoolExecutor, as_completed\n",
    "\n",
    "BASE_URL = 'https://api.tvmaze.com'\n",
    "\n",
    "def search_show_by_name(name):\n",
    "    url = f'{BASE_URL}/singlesearch/shows?q={name}'\n",
    "    try:\n",
    "        response = requests.get(url)\n",
    "        response.raise_for_status()\n",
    "        return response.json()\n",
    "    except requests.RequestException:\n",
    "        return None\n",
    "\n",
    "def get_show_episodes(show_id):\n",
    "    url = f'{BASE_URL}/shows/{show_id}/episodes'\n",
    "    try:\n",
    "        response = requests.get(url)\n",
    "        response.raise_for_status()\n",
    "        return response.json()\n",
    "    except requests.RequestException:\n",
    "        return None\n",
    "\n",
    "def fetch_show_details(show_name):\n",
    "    search_result = search_show_by_name(show_name)\n",
    "    \n",
    "    if search_result:\n",
    "        show_title = search_result.get('name')\n",
    "        if show_title.lower() != show_name.lower():\n",
    "            return None\n",
    "        \n",
    "        show_id = search_result['id']\n",
    "        show_details = {\n",
    "            'title': show_title,\n",
    "            'overview': search_result.get('summary'),\n",
    "            'seasons': {}\n",
    "        }\n",
    "        \n",
    "        # Fetch episode details for each show\n",
    "        episodes = get_show_episodes(show_id)\n",
    "        if episodes:\n",
    "            for episode in episodes:\n",
    "                season_number = episode['season']\n",
    "                if season_number not in show_details['seasons']:\n",
    "                    show_details['seasons'][season_number] = []\n",
    "                \n",
    "                episode_info = {\n",
    "                    'episode_number': episode['number'],\n",
    "                    'episode_title': episode['name'],\n",
    "                    'episode_overview': episode['summary'],\n",
    "                    'air_date': episode['airdate']\n",
    "                }\n",
    "                show_details['seasons'][season_number].append(episode_info)\n",
    "        \n",
    "        return show_name, show_details\n",
    "    return None\n",
    "\n",
    "def main():\n",
    "    \n",
    "    df = pd.read_csv('final_data.csv')  \n",
    "\n",
    "    # Process only the first 10 rows for testing\n",
    "    # df = df.head(10)\n",
    "\n",
    "    \n",
    "    shows_dict = {}\n",
    "\n",
    "   \n",
    "    with ThreadPoolExecutor(max_workers=10) as executor:\n",
    "        future_to_show = {executor.submit(fetch_show_details, row['name']): row['name'] for index, row in df.iterrows()}\n",
    "        for future in tqdm(as_completed(future_to_show), total=len(future_to_show), desc=\"Fetching show details\", leave=False):\n",
    "            result = future.result()\n",
    "            if result:\n",
    "                show_name, show_details = result\n",
    "                shows_dict[show_name] = show_details\n",
    "\n",
    "    # Save the nested structure to a JSON file\n",
    "    with open('shows_details.json', 'w', encoding='utf-8') as json_file:\n",
    "        json.dump(shows_dict, json_file, ensure_ascii=False, indent=4)\n",
    "\n",
    "    print(\"Details saved to 'shows_details.json'\")\n",
    "\n",
    "if __name__ == \"__main__\":\n",
    "    main()\n"
   ]
  },
  {
   "cell_type": "code",
   "execution_count": 33,
   "id": "8c11aea1-19ea-461b-a1a8-546e89ec00b4",
   "metadata": {},
   "outputs": [
    {
     "name": "stdout",
     "output_type": "stream",
     "text": [
      "Number of show names in the JSON file: 813\n"
     ]
    }
   ],
   "source": [
    "593e3b55"
   ]
  },
  {
   "cell_type": "code",
   "execution_count": null,
   "id": "9dac0e3f-0ea5-4d36-9604-9d46e4b4e678",
   "metadata": {},
   "outputs": [],
   "source": []
  }
 ],
 "metadata": {
  "kernelspec": {
   "display_name": "Python 3 (ipykernel)",
   "language": "python",
   "name": "python3"
  },
  "language_info": {
   "codemirror_mode": {
    "name": "ipython",
    "version": 3
   },
   "file_extension": ".py",
   "mimetype": "text/x-python",
   "name": "python",
   "nbconvert_exporter": "python",
   "pygments_lexer": "ipython3",
   "version": "3.11.0"
  }
 },
 "nbformat": 4,
 "nbformat_minor": 5
}
