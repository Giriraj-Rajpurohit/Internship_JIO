{
 "cells": [
  {
   "cell_type": "code",
   "execution_count": 2,
   "id": "56dc40ab",
   "metadata": {},
   "outputs": [],
   "source": [
    "from bs4 import BeautifulSoup\n",
    "import requests\n",
    "import pandas as pd\n",
    "import pymongo\n",
    "import json\n",
    "from datetime import datetime, timedelta"
   ]
  },
  {
   "cell_type": "code",
   "execution_count": 3,
   "id": "934fca07",
   "metadata": {},
   "outputs": [],
   "source": [
    "base_url = 'https://www.indiaforums.com/show/chaskameter/'"
   ]
  },
  {
   "cell_type": "code",
   "execution_count": 4,
   "id": "9c4e234b",
   "metadata": {},
   "outputs": [],
   "source": [
    "data = []\n",
    "\n",
    "for week in range (1,677):\n",
    "    \n",
    "    url = f\"{base_url}{week}\"\n",
    "    \n",
    "    page = requests.get(url)\n",
    "    \n",
    "    soup = BeautifulSoup(page.text, 'html.parser')\n",
    "    \n",
    "    meta_tag = soup.find('meta', attrs={'name': 'description'})\n",
    "    if meta_tag:\n",
    "        date_string = meta_tag['content'].split('From ')[1].split(' to ')[0].strip()\n",
    "    else:\n",
    "        date_string = None\n",
    "    \n",
    "    rows = soup.find_all('tr')[1:]\n",
    "    \n",
    "    for row in rows:\n",
    "        show_info = {}\n",
    "        show_info['Start Date'] = date_string\n",
    "\n",
    "        show_info['Rank'] = row.find('div', class_='order-number').text.strip()\n",
    "\n",
    "        show_name_tag = row.find('div', class_='table-first-td-div-class').a\n",
    "        show_info['Show Name'] = show_name_tag.text.strip()\n",
    "        show_info['Show URL'] = 'https://www.indiaforums.com' + show_name_tag['href']\n",
    "\n",
    "        show_info['Last Week'] = row.find('small').text.strip().replace('Last Week: ', '')\n",
    "\n",
    "        metrics = row.find_all('li')\n",
    "        #show_info['Buzz'] = metrics[0].text.strip().replace('Buzz :', '')\n",
    "        show_info['Rating'] = metrics[1].text.strip().replace('Rating :', '')\n",
    "        show_info['Views'] = metrics[2].text.strip().replace('Views :', '')\n",
    "        show_info['Activity'] = metrics[3].text.strip().replace('Activity :', '')\n",
    "        show_info['Followers'] = metrics[4].text.strip().replace('Followers :', '')\n",
    "        #show_info['TRP'] = metrics[5].text.strip().replace('Trp :', '')\n",
    "        show_info['Week_ID'] = week\n",
    "\n",
    "        show_info['Total Points'] = row.find_all('td')[1].text.strip()\n",
    "\n",
    "        data.append(show_info)"
   ]
  },
  {
   "cell_type": "code",
   "execution_count": 5,
   "id": "3883aec2",
   "metadata": {},
   "outputs": [],
   "source": [
    "df = pd.DataFrame(data)"
   ]
  },
  {
   "cell_type": "code",
   "execution_count": 6,
   "id": "3ad6d434",
   "metadata": {},
   "outputs": [],
   "source": [
    "df.to_csv('chaskameter_show_ranking_all_weeks.csv', index=False)"
   ]
  },
  {
   "cell_type": "code",
   "execution_count": 45,
   "id": "c31c758c",
   "metadata": {},
   "outputs": [],
   "source": [
    "pd.set_option('display.max_columns', None)  # Display all columns\n",
    "pd.set_option('display.expand_frame_repr', False)  # Prevent wrapping of columns"
   ]
  },
  {
   "cell_type": "code",
   "execution_count": 46,
   "id": "d03b3ea3",
   "metadata": {},
   "outputs": [],
   "source": [
    "df['Start Date'] = pd.to_datetime(df['Start Date'], errors='coerce')\n",
    "df['Start Date'] = df['Start Date'].dt.strftime('%Y-%m-%d')"
   ]
  },
  {
   "cell_type": "code",
   "execution_count": 47,
   "id": "a30a8f84",
   "metadata": {},
   "outputs": [],
   "source": [
    "client = pymongo.MongoClient(\"mongodb://localhost:27017\")"
   ]
  },
  {
   "cell_type": "code",
   "execution_count": 48,
   "id": "6586696f",
   "metadata": {},
   "outputs": [],
   "source": [
    "data = df.to_dict(orient = \"records\")"
   ]
  },
  {
   "cell_type": "code",
   "execution_count": 49,
   "id": "ec3f9ec3",
   "metadata": {},
   "outputs": [
    {
     "name": "stdout",
     "output_type": "stream",
     "text": [
      "Data insertion completed.\n"
     ]
    }
   ],
   "source": [
    "db = client[\"TV_Shows\"]\n",
    "\n",
    "def insert_in_chunks(data, chunk_size=1000):\n",
    "    for i in range(0, len(data), chunk_size):\n",
    "        chunk = data[i:i + chunk_size]\n",
    "        try:\n",
    "            db.Shows.insert_many(chunk, ordered=False)\n",
    "        except Exception as e:\n",
    "            print(f\"Error inserting chunk starting at index {i}: {e}\")\n",
    "\n",
    "insert_in_chunks(data)\n",
    "\n",
    "print(\"Data insertion completed.\")"
   ]
  },
  {
   "cell_type": "code",
   "execution_count": 50,
   "id": "576c6e44",
   "metadata": {},
   "outputs": [],
   "source": [
    "#print(db)"
   ]
  },
  {
   "cell_type": "code",
   "execution_count": 51,
   "id": "a316e231",
   "metadata": {},
   "outputs": [],
   "source": [
    "#db.Shows.insert_many(data)"
   ]
  },
  {
   "cell_type": "code",
   "execution_count": 52,
   "id": "7d1343f7",
   "metadata": {},
   "outputs": [
    {
     "data": {
      "text/html": [
       "<div>\n",
       "<style scoped>\n",
       "    .dataframe tbody tr th:only-of-type {\n",
       "        vertical-align: middle;\n",
       "    }\n",
       "\n",
       "    .dataframe tbody tr th {\n",
       "        vertical-align: top;\n",
       "    }\n",
       "\n",
       "    .dataframe thead th {\n",
       "        text-align: right;\n",
       "    }\n",
       "</style>\n",
       "<table border=\"1\" class=\"dataframe\">\n",
       "  <thead>\n",
       "    <tr style=\"text-align: right;\">\n",
       "      <th></th>\n",
       "      <th>Start Date</th>\n",
       "      <th>Rank</th>\n",
       "      <th>Show Name</th>\n",
       "      <th>Show URL</th>\n",
       "      <th>Last Week</th>\n",
       "      <th>Rating</th>\n",
       "      <th>Views</th>\n",
       "      <th>Activity</th>\n",
       "      <th>Followers</th>\n",
       "      <th>Week_ID</th>\n",
       "      <th>Total Points</th>\n",
       "    </tr>\n",
       "  </thead>\n",
       "  <tbody>\n",
       "    <tr>\n",
       "      <th>0</th>\n",
       "      <td>2010-03-01</td>\n",
       "      <td>1</td>\n",
       "      <td>Miley Jab Hum Tum</td>\n",
       "      <td>https://www.indiaforums.com/show/miley-jab-hum...</td>\n",
       "      <td>0</td>\n",
       "      <td>294</td>\n",
       "      <td>137</td>\n",
       "      <td>115</td>\n",
       "      <td>88</td>\n",
       "      <td>1</td>\n",
       "      <td>729</td>\n",
       "    </tr>\n",
       "    <tr>\n",
       "      <th>1</th>\n",
       "      <td>2010-03-01</td>\n",
       "      <td>2</td>\n",
       "      <td>Dill Mill Gayye</td>\n",
       "      <td>https://www.indiaforums.com/show/dill-mill-gay...</td>\n",
       "      <td>0</td>\n",
       "      <td>172</td>\n",
       "      <td>275</td>\n",
       "      <td>175</td>\n",
       "      <td>100</td>\n",
       "      <td>1</td>\n",
       "      <td>722</td>\n",
       "    </tr>\n",
       "    <tr>\n",
       "      <th>2</th>\n",
       "      <td>2010-03-01</td>\n",
       "      <td>3</td>\n",
       "      <td>Mann Kee Awaaz Pratigya</td>\n",
       "      <td>https://www.indiaforums.com/show/mann-kee-awaa...</td>\n",
       "      <td>0</td>\n",
       "      <td>202</td>\n",
       "      <td>122</td>\n",
       "      <td>82</td>\n",
       "      <td>28</td>\n",
       "      <td>1</td>\n",
       "      <td>529</td>\n",
       "    </tr>\n",
       "    <tr>\n",
       "      <th>3</th>\n",
       "      <td>2010-03-01</td>\n",
       "      <td>4</td>\n",
       "      <td>Yeh Rishta Kya Kehlata Hai</td>\n",
       "      <td>https://www.indiaforums.com/show/yeh-rishta-ky...</td>\n",
       "      <td>1</td>\n",
       "      <td>209</td>\n",
       "      <td>143</td>\n",
       "      <td>44</td>\n",
       "      <td>32</td>\n",
       "      <td>1</td>\n",
       "      <td>523</td>\n",
       "    </tr>\n",
       "    <tr>\n",
       "      <th>4</th>\n",
       "      <td>2010-03-01</td>\n",
       "      <td>5</td>\n",
       "      <td>Sapna Babul Ka Bidaai</td>\n",
       "      <td>https://www.indiaforums.com/show/sapna-babul-k...</td>\n",
       "      <td>0</td>\n",
       "      <td>206</td>\n",
       "      <td>151</td>\n",
       "      <td>73</td>\n",
       "      <td>37</td>\n",
       "      <td>1</td>\n",
       "      <td>482</td>\n",
       "    </tr>\n",
       "  </tbody>\n",
       "</table>\n",
       "</div>"
      ],
      "text/plain": [
       "   Start Date Rank                   Show Name                                           Show URL Last Week Rating Views Activity Followers  Week_ID Total Points\n",
       "0  2010-03-01    1           Miley Jab Hum Tum  https://www.indiaforums.com/show/miley-jab-hum...         0    294   137      115        88        1          729\n",
       "1  2010-03-01    2             Dill Mill Gayye  https://www.indiaforums.com/show/dill-mill-gay...         0    172   275      175       100        1          722\n",
       "2  2010-03-01    3     Mann Kee Awaaz Pratigya  https://www.indiaforums.com/show/mann-kee-awaa...         0    202   122       82        28        1          529\n",
       "3  2010-03-01    4  Yeh Rishta Kya Kehlata Hai  https://www.indiaforums.com/show/yeh-rishta-ky...         1    209   143       44        32        1          523\n",
       "4  2010-03-01    5       Sapna Babul Ka Bidaai  https://www.indiaforums.com/show/sapna-babul-k...         0    206   151       73        37        1          482"
      ]
     },
     "execution_count": 52,
     "metadata": {},
     "output_type": "execute_result"
    }
   ],
   "source": [
    "df.head()"
   ]
  },
  {
   "cell_type": "code",
   "execution_count": null,
   "id": "bd1a9781",
   "metadata": {},
   "outputs": [],
   "source": []
  }
 ],
 "metadata": {
  "kernelspec": {
   "display_name": "Python 3 (ipykernel)",
   "language": "python",
   "name": "python3"
  },
  "language_info": {
   "codemirror_mode": {
    "name": "ipython",
    "version": 3
   },
   "file_extension": ".py",
   "mimetype": "text/x-python",
   "name": "python",
   "nbconvert_exporter": "python",
   "pygments_lexer": "ipython3",
   "version": "3.11.0"
  }
 },
 "nbformat": 4,
 "nbformat_minor": 5
}
