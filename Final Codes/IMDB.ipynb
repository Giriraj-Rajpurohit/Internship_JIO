{
 "cells": [
  {
   "cell_type": "code",
   "execution_count": 57,
   "id": "69f8941e-d932-4d7a-a5c4-f71dbc207ccd",
   "metadata": {},
   "outputs": [
    {
     "name": "stderr",
     "output_type": "stream",
     "text": [
      "Processing shows:   0%|                      | 6/5491 [00:07<1:28:06,  1.04it/s]"
     ]
    },
    {
     "name": "stdout",
     "output_type": "stream",
     "text": [
      "Error fetching data for ghost adventures: goldfield hotel: 'name'\n"
     ]
    },
    {
     "name": "stderr",
     "output_type": "stream",
     "text": [
      "Processing shows:   1%|▏                      | 44/5491 [00:26<45:53,  1.98it/s]"
     ]
    },
    {
     "name": "stdout",
     "output_type": "stream",
     "text": [
      "Error fetching data for darkness: 'name'\n"
     ]
    },
    {
     "name": "stderr",
     "output_type": "stream",
     "text": [
      "Processing shows:   1%|▏                      | 51/5491 [00:29<45:52,  1.98it/s]"
     ]
    },
    {
     "name": "stdout",
     "output_type": "stream",
     "text": [
      "Error fetching data for zeroes: 'name'\n"
     ]
    },
    {
     "name": "stderr",
     "output_type": "stream",
     "text": [
      "Processing shows:   1%|▎                      | 68/5491 [00:38<45:40,  1.98it/s]"
     ]
    },
    {
     "name": "stdout",
     "output_type": "stream",
     "text": [
      "Error fetching data for crash: 'name'\n"
     ]
    },
    {
     "name": "stderr",
     "output_type": "stream",
     "text": [
      "Processing shows:   2%|▍                     | 111/5491 [01:00<45:18,  1.98it/s]"
     ]
    },
    {
     "name": "stdout",
     "output_type": "stream",
     "text": [
      "Error fetching data for missing persons unit: 'name'\n"
     ]
    },
    {
     "name": "stderr",
     "output_type": "stream",
     "text": [
      "Processing shows:   2%|▌                     | 137/5491 [01:13<45:09,  1.98it/s]"
     ]
    },
    {
     "name": "stdout",
     "output_type": "stream",
     "text": [
      "Error fetching data for seetha kalyanam: 'name'\n"
     ]
    },
    {
     "name": "stderr",
     "output_type": "stream",
     "text": [
      "Processing shows:   3%|▋                     | 162/5491 [01:25<44:57,  1.98it/s]"
     ]
    },
    {
     "name": "stdout",
     "output_type": "stream",
     "text": [
      "Error fetching data for bhanwar: 'name'\n"
     ]
    },
    {
     "name": "stderr",
     "output_type": "stream",
     "text": [
      "Processing shows:   3%|▋                     | 177/5491 [01:33<44:51,  1.97it/s]"
     ]
    },
    {
     "name": "stdout",
     "output_type": "stream",
     "text": [
      "Error fetching data for 100 days: 'name'\n"
     ]
    },
    {
     "name": "stderr",
     "output_type": "stream",
     "text": [
      "Processing shows:   4%|▊                     | 217/5491 [01:53<44:26,  1.98it/s]"
     ]
    },
    {
     "name": "stdout",
     "output_type": "stream",
     "text": [
      "Error fetching data for kargil: valour & victory: 'name'\n"
     ]
    },
    {
     "name": "stderr",
     "output_type": "stream",
     "text": [
      "Processing shows:   4%|▊                     | 218/5491 [01:54<44:28,  1.98it/s]"
     ]
    },
    {
     "name": "stdout",
     "output_type": "stream",
     "text": [
      "Error fetching data for the dreamers: 'name'\n"
     ]
    },
    {
     "name": "stderr",
     "output_type": "stream",
     "text": [
      "Processing shows:   4%|▉                     | 241/5491 [02:05<44:14,  1.98it/s]"
     ]
    },
    {
     "name": "stdout",
     "output_type": "stream",
     "text": [
      "Error fetching data for sravana sandhya : 'name'\n"
     ]
    },
    {
     "name": "stderr",
     "output_type": "stream",
     "text": [
      "Processing shows:   5%|█                     | 269/5491 [02:20<43:55,  1.98it/s]"
     ]
    },
    {
     "name": "stdout",
     "output_type": "stream",
     "text": [
      "Error fetching data for bhagya rekha: 'name'\n"
     ]
    },
    {
     "name": "stderr",
     "output_type": "stream",
     "text": [
      "Processing shows:   6%|█▏                    | 310/5491 [02:40<43:34,  1.98it/s]"
     ]
    },
    {
     "name": "stdout",
     "output_type": "stream",
     "text": [
      "Error fetching data for khelaghor: 'name'\n"
     ]
    },
    {
     "name": "stderr",
     "output_type": "stream",
     "text": [
      "Processing shows:   6%|█▎                    | 318/5491 [02:44<43:33,  1.98it/s]"
     ]
    },
    {
     "name": "stdout",
     "output_type": "stream",
     "text": [
      "Error fetching data for titanic: into the heart of the wreck: 'name'\n"
     ]
    },
    {
     "name": "stderr",
     "output_type": "stream",
     "text": [
      "Processing shows:   8%|█▋                    | 415/5491 [03:33<42:46,  1.98it/s]"
     ]
    },
    {
     "name": "stdout",
     "output_type": "stream",
     "text": [
      "Error fetching data for janaki ramudu: 'name'\n"
     ]
    },
    {
     "name": "stderr",
     "output_type": "stream",
     "text": [
      "Processing shows:   8%|█▋                    | 431/5491 [03:42<42:36,  1.98it/s]"
     ]
    },
    {
     "name": "stdout",
     "output_type": "stream",
     "text": [
      "Error fetching data for chawa pawa: 'name'\n"
     ]
    },
    {
     "name": "stderr",
     "output_type": "stream",
     "text": [
      "Processing shows:   8%|█▊                    | 453/5491 [03:53<42:23,  1.98it/s]"
     ]
    },
    {
     "name": "stdout",
     "output_type": "stream",
     "text": [
      "Error fetching data for ardhangini: 'name'\n"
     ]
    },
    {
     "name": "stderr",
     "output_type": "stream",
     "text": [
      "Processing shows:   9%|█▉                    | 485/5491 [04:09<42:07,  1.98it/s]"
     ]
    },
    {
     "name": "stdout",
     "output_type": "stream",
     "text": [
      "Error fetching data for secrets of sinauli: 'name'\n"
     ]
    },
    {
     "name": "stderr",
     "output_type": "stream",
     "text": [
      "Processing shows:   9%|██                    | 500/5491 [04:16<42:05,  1.98it/s]"
     ]
    },
    {
     "name": "stdout",
     "output_type": "stream",
     "text": [
      "Error fetching data for breaking point: 'name'\n"
     ]
    },
    {
     "name": "stderr",
     "output_type": "stream",
     "text": [
      "Processing shows:  10%|██▏                   | 552/5491 [04:43<41:39,  1.98it/s]"
     ]
    },
    {
     "name": "stdout",
     "output_type": "stream",
     "text": [
      "Error fetching data for bili hendthi: 'name'\n"
     ]
    },
    {
     "name": "stderr",
     "output_type": "stream",
     "text": [
      "Processing shows:  10%|██▎                   | 572/5491 [04:53<41:31,  1.97it/s]"
     ]
    },
    {
     "name": "stdout",
     "output_type": "stream",
     "text": [
      "Error fetching data for veera: 'name'\n"
     ]
    },
    {
     "name": "stderr",
     "output_type": "stream",
     "text": [
      "Processing shows:  10%|██▎                   | 573/5491 [04:53<41:29,  1.98it/s]"
     ]
    },
    {
     "name": "stdout",
     "output_type": "stream",
     "text": [
      "Error fetching data for love you zindagi: 'name'\n"
     ]
    },
    {
     "name": "stderr",
     "output_type": "stream",
     "text": [
      "Processing shows:  11%|██▎                   | 582/5491 [04:58<41:21,  1.98it/s]"
     ]
    },
    {
     "name": "stdout",
     "output_type": "stream",
     "text": [
      "Error fetching data for 61st cavalry: india's horse warriors: 'name'\n"
     ]
    },
    {
     "name": "stderr",
     "output_type": "stream",
     "text": [
      "Processing shows:  11%|██▍                   | 614/5491 [05:14<41:23,  1.96it/s]"
     ]
    },
    {
     "name": "stdout",
     "output_type": "stream",
     "text": [
      "Error fetching data for ayushman bhava: 'name'\n"
     ]
    },
    {
     "name": "stderr",
     "output_type": "stream",
     "text": [
      "Processing shows:  11%|██▍                   | 618/5491 [05:16<41:28,  1.96it/s]"
     ]
    },
    {
     "name": "stdout",
     "output_type": "stream",
     "text": [
      "Error fetching data for back to school: 'name'\n"
     ]
    },
    {
     "name": "stderr",
     "output_type": "stream",
     "text": [
      "Processing shows:  11%|██▍                   | 620/5491 [05:17<41:24,  1.96it/s]"
     ]
    },
    {
     "name": "stdout",
     "output_type": "stream",
     "text": [
      "Error fetching data for francesco: 'name'\n"
     ]
    },
    {
     "name": "stderr",
     "output_type": "stream",
     "text": [
      "Processing shows:  12%|██▌                   | 632/5491 [05:23<41:10,  1.97it/s]"
     ]
    },
    {
     "name": "stdout",
     "output_type": "stream",
     "text": [
      "Error fetching data for the mating game: 'name'\n"
     ]
    },
    {
     "name": "stderr",
     "output_type": "stream",
     "text": [
      "Processing shows:  12%|██▌                   | 634/5491 [05:24<41:07,  1.97it/s]"
     ]
    },
    {
     "name": "stdout",
     "output_type": "stream",
     "text": [
      "Error fetching data for bhanwar: 'name'\n"
     ]
    },
    {
     "name": "stderr",
     "output_type": "stream",
     "text": [
      "Processing shows:  12%|██▌                   | 646/5491 [05:30<41:09,  1.96it/s]"
     ]
    },
    {
     "name": "stdout",
     "output_type": "stream",
     "text": [
      "Error fetching data for ok jaanu: 'name'\n"
     ]
    },
    {
     "name": "stderr",
     "output_type": "stream",
     "text": [
      "Processing shows:  13%|██▊                   | 705/5491 [06:01<40:39,  1.96it/s]"
     ]
    },
    {
     "name": "stdout",
     "output_type": "stream",
     "text": [
      "Error fetching data for neeli: 'name'\n"
     ]
    },
    {
     "name": "stderr",
     "output_type": "stream",
     "text": [
      "Processing shows:  13%|██▊                   | 708/5491 [06:02<40:23,  1.97it/s]"
     ]
    },
    {
     "name": "stdout",
     "output_type": "stream",
     "text": [
      "Error fetching data for hey krishna: 'name'\n"
     ]
    },
    {
     "name": "stderr",
     "output_type": "stream",
     "text": [
      "Processing shows:  13%|██▉                   | 728/5491 [06:12<40:26,  1.96it/s]"
     ]
    },
    {
     "name": "stdout",
     "output_type": "stream",
     "text": [
      "Error fetching data for beauty and the feast: 'name'\n"
     ]
    },
    {
     "name": "stderr",
     "output_type": "stream",
     "text": [
      "Processing shows:  14%|███▏                  | 795/5491 [06:46<39:47,  1.97it/s]"
     ]
    },
    {
     "name": "stdout",
     "output_type": "stream",
     "text": [
      "Error fetching data for mahabharata: 'name'\n"
     ]
    },
    {
     "name": "stderr",
     "output_type": "stream",
     "text": [
      "Processing shows:  16%|███▍                  | 857/5491 [07:18<39:15,  1.97it/s]"
     ]
    },
    {
     "name": "stdout",
     "output_type": "stream",
     "text": [
      "Error fetching data for lucky louie: 'name'\n"
     ]
    },
    {
     "name": "stderr",
     "output_type": "stream",
     "text": [
      "Processing shows:  16%|███▌                  | 878/5491 [07:29<39:12,  1.96it/s]"
     ]
    },
    {
     "name": "stdout",
     "output_type": "stream",
     "text": [
      "Error fetching data for naga panchami: 'name'\n"
     ]
    },
    {
     "name": "stderr",
     "output_type": "stream",
     "text": [
      "Processing shows:  16%|███▌                  | 880/5491 [07:30<38:56,  1.97it/s]"
     ]
    },
    {
     "name": "stdout",
     "output_type": "stream",
     "text": [
      "Error fetching data for transit: 'name'\n"
     ]
    },
    {
     "name": "stderr",
     "output_type": "stream",
     "text": [
      "Processing shows:  16%|███▌                  | 884/5491 [07:32<39:08,  1.96it/s]"
     ]
    },
    {
     "name": "stdout",
     "output_type": "stream",
     "text": [
      "Error fetching data for murder at koh e fiza: 'name'\n"
     ]
    },
    {
     "name": "stderr",
     "output_type": "stream",
     "text": [
      "Processing shows:  16%|███▌                  | 892/5491 [07:36<39:03,  1.96it/s]"
     ]
    },
    {
     "name": "stdout",
     "output_type": "stream",
     "text": [
      "Error fetching data for promised land: 'name'\n"
     ]
    },
    {
     "name": "stderr",
     "output_type": "stream",
     "text": [
      "Processing shows:  17%|███▋                  | 917/5491 [07:48<38:45,  1.97it/s]"
     ]
    },
    {
     "name": "stdout",
     "output_type": "stream",
     "text": [
      "Error fetching data for parvarish: 'name'\n"
     ]
    },
    {
     "name": "stderr",
     "output_type": "stream",
     "text": [
      "Processing shows:  19%|███▉                 | 1028/5491 [08:45<37:48,  1.97it/s]"
     ]
    },
    {
     "name": "stdout",
     "output_type": "stream",
     "text": [
      "Error fetching data for meghasandesam: 'name'\n"
     ]
    },
    {
     "name": "stderr",
     "output_type": "stream",
     "text": [
      "Processing shows:  19%|███▉                 | 1038/5491 [08:50<37:40,  1.97it/s]"
     ]
    },
    {
     "name": "stdout",
     "output_type": "stream",
     "text": [
      "Error fetching data for padi padi leche manasu: 'name'\n"
     ]
    },
    {
     "name": "stderr",
     "output_type": "stream",
     "text": [
      "Processing shows:  20%|████▏                | 1094/5491 [09:19<37:25,  1.96it/s]"
     ]
    },
    {
     "name": "stdout",
     "output_type": "stream",
     "text": [
      "Error fetching data for atm: 'name'\n"
     ]
    },
    {
     "name": "stderr",
     "output_type": "stream",
     "text": [
      "Processing shows:  20%|████▏                | 1104/5491 [09:24<37:19,  1.96it/s]"
     ]
    },
    {
     "name": "stdout",
     "output_type": "stream",
     "text": [
      "Error fetching data for pagal nilavu: 'name'\n"
     ]
    },
    {
     "name": "stderr",
     "output_type": "stream",
     "text": [
      "Processing shows:  20%|████▎                | 1112/5491 [09:28<37:16,  1.96it/s]"
     ]
    },
    {
     "name": "stdout",
     "output_type": "stream",
     "text": [
      "Error fetching data for contact: 'name'\n"
     ]
    },
    {
     "name": "stderr",
     "output_type": "stream",
     "text": [
      "Processing shows:  21%|████▍                | 1174/5491 [09:59<36:45,  1.96it/s]"
     ]
    },
    {
     "name": "stdout",
     "output_type": "stream",
     "text": [
      "Error fetching data for golden kamuy: 'name'\n"
     ]
    },
    {
     "name": "stderr",
     "output_type": "stream",
     "text": [
      "Processing shows:  22%|████▋                | 1234/5491 [10:30<35:58,  1.97it/s]"
     ]
    },
    {
     "name": "stdout",
     "output_type": "stream",
     "text": [
      "Error fetching data for the vow: 'name'\n"
     ]
    },
    {
     "name": "stderr",
     "output_type": "stream",
     "text": [
      "Processing shows:  23%|████▊                | 1250/5491 [10:38<35:56,  1.97it/s]"
     ]
    },
    {
     "name": "stdout",
     "output_type": "stream",
     "text": [
      "Error fetching data for taish: 'name'\n"
     ]
    },
    {
     "name": "stderr",
     "output_type": "stream",
     "text": [
      "Processing shows:  23%|████▊                | 1254/5491 [10:40<35:50,  1.97it/s]"
     ]
    },
    {
     "name": "stdout",
     "output_type": "stream",
     "text": [
      "Error fetching data for spawn: 'name'\n"
     ]
    },
    {
     "name": "stderr",
     "output_type": "stream",
     "text": [
      "Processing shows:  23%|████▊                | 1265/5491 [10:46<35:53,  1.96it/s]"
     ]
    },
    {
     "name": "stdout",
     "output_type": "stream",
     "text": [
      "Error fetching data for pinocchio: 'name'\n"
     ]
    },
    {
     "name": "stderr",
     "output_type": "stream",
     "text": [
      "Processing shows:  24%|█████                | 1312/5491 [11:10<35:36,  1.96it/s]"
     ]
    },
    {
     "name": "stdout",
     "output_type": "stream",
     "text": [
      "Error fetching data for aathma: 'name'\n"
     ]
    },
    {
     "name": "stderr",
     "output_type": "stream",
     "text": [
      "Processing shows:  24%|█████                | 1314/5491 [11:11<35:36,  1.96it/s]"
     ]
    },
    {
     "name": "stdout",
     "output_type": "stream",
     "text": [
      "Error fetching data for titli: 'name'\n"
     ]
    },
    {
     "name": "stderr",
     "output_type": "stream",
     "text": [
      "Processing shows:  24%|█████                | 1316/5491 [11:12<35:26,  1.96it/s]"
     ]
    },
    {
     "name": "stdout",
     "output_type": "stream",
     "text": [
      "Error fetching data for mohabbat: 'name'\n"
     ]
    },
    {
     "name": "stderr",
     "output_type": "stream",
     "text": [
      "Processing shows:  24%|█████                | 1317/5491 [11:12<35:28,  1.96it/s]"
     ]
    },
    {
     "name": "stdout",
     "output_type": "stream",
     "text": [
      "Error fetching data for celebrity interview: 'name'\n"
     ]
    },
    {
     "name": "stderr",
     "output_type": "stream",
     "text": [
      "Processing shows:  24%|█████                | 1336/5491 [11:22<35:18,  1.96it/s]"
     ]
    },
    {
     "name": "stdout",
     "output_type": "stream",
     "text": [
      "Error fetching data for fear files: 'name'\n"
     ]
    },
    {
     "name": "stderr",
     "output_type": "stream",
     "text": [
      "Processing shows:  25%|█████▏               | 1348/5491 [11:28<35:10,  1.96it/s]"
     ]
    },
    {
     "name": "stdout",
     "output_type": "stream",
     "text": [
      "Error fetching data for i know what you did last summer: 'name'\n"
     ]
    },
    {
     "name": "stderr",
     "output_type": "stream",
     "text": [
      "Processing shows:  25%|█████▎               | 1373/5491 [11:41<35:05,  1.96it/s]"
     ]
    },
    {
     "name": "stdout",
     "output_type": "stream",
     "text": [
      "Error fetching data for school chale hum: 'name'\n"
     ]
    },
    {
     "name": "stderr",
     "output_type": "stream",
     "text": [
      "Processing shows:  25%|█████▎               | 1380/5491 [11:44<35:01,  1.96it/s]"
     ]
    },
    {
     "name": "stdout",
     "output_type": "stream",
     "text": [
      "Error fetching data for a gingerbread christmas: 'name'\n"
     ]
    },
    {
     "name": "stderr",
     "output_type": "stream",
     "text": [
      "Processing shows:  25%|█████▎               | 1391/5491 [11:50<34:54,  1.96it/s]"
     ]
    },
    {
     "name": "stdout",
     "output_type": "stream",
     "text": [
      "Error fetching data for subhash chandra bose: the mystery: 'name'\n"
     ]
    },
    {
     "name": "stderr",
     "output_type": "stream",
     "text": [
      "Processing shows:  25%|█████▎               | 1392/5491 [11:50<34:54,  1.96it/s]"
     ]
    },
    {
     "name": "stdout",
     "output_type": "stream",
     "text": [
      "Error fetching data for jyothi: 'name'\n"
     ]
    },
    {
     "name": "stderr",
     "output_type": "stream",
     "text": [
      "Processing shows:  25%|█████▎               | 1398/5491 [11:53<34:48,  1.96it/s]"
     ]
    },
    {
     "name": "stdout",
     "output_type": "stream",
     "text": [
      "Error fetching data for ninnindale: 'name'\n"
     ]
    },
    {
     "name": "stderr",
     "output_type": "stream",
     "text": [
      "Processing shows:  26%|█████▍               | 1420/5491 [12:05<34:29,  1.97it/s]"
     ]
    },
    {
     "name": "stdout",
     "output_type": "stream",
     "text": [
      "Error fetching data for the disappeared: 'name'\n"
     ]
    },
    {
     "name": "stderr",
     "output_type": "stream",
     "text": [
      "Processing shows:  26%|█████▍               | 1435/5491 [12:12<34:11,  1.98it/s]"
     ]
    },
    {
     "name": "stdout",
     "output_type": "stream",
     "text": [
      "Error fetching data for chakra the invincible: 'name'\n"
     ]
    },
    {
     "name": "stderr",
     "output_type": "stream",
     "text": [
      "Processing shows:  27%|█████▋               | 1479/5491 [12:34<33:48,  1.98it/s]"
     ]
    },
    {
     "name": "stdout",
     "output_type": "stream",
     "text": [
      "Error fetching data for mahaprabhu: 'name'\n"
     ]
    },
    {
     "name": "stderr",
     "output_type": "stream",
     "text": [
      "Processing shows:  27%|█████▋               | 1501/5491 [12:46<33:38,  1.98it/s]"
     ]
    },
    {
     "name": "stdout",
     "output_type": "stream",
     "text": [
      "Error fetching data for homeboy: 'name'\n"
     ]
    },
    {
     "name": "stderr",
     "output_type": "stream",
     "text": [
      "Processing shows:  27%|█████▊               | 1506/5491 [12:48<33:33,  1.98it/s]"
     ]
    },
    {
     "name": "stdout",
     "output_type": "stream",
     "text": [
      "Error fetching data for kalyana sougandhikam: 'name'\n"
     ]
    },
    {
     "name": "stderr",
     "output_type": "stream",
     "text": [
      "Processing shows:  27%|█████▊               | 1510/5491 [12:50<33:34,  1.98it/s]"
     ]
    },
    {
     "name": "stdout",
     "output_type": "stream",
     "text": [
      "Error fetching data for kaatrin mozhi: 'name'\n"
     ]
    },
    {
     "name": "stderr",
     "output_type": "stream",
     "text": [
      "Processing shows:  28%|█████▊               | 1529/5491 [13:00<33:23,  1.98it/s]"
     ]
    },
    {
     "name": "stdout",
     "output_type": "stream",
     "text": [
      "Error fetching data for ek hasina thi: 'name'\n"
     ]
    },
    {
     "name": "stderr",
     "output_type": "stream",
     "text": [
      "Processing shows:  28%|█████▉               | 1543/5491 [13:07<33:18,  1.98it/s]"
     ]
    },
    {
     "name": "stdout",
     "output_type": "stream",
     "text": [
      "Error fetching data for nix: 'name'\n"
     ]
    },
    {
     "name": "stderr",
     "output_type": "stream",
     "text": [
      "Processing shows:  31%|██████▍              | 1675/5491 [14:14<32:11,  1.98it/s]"
     ]
    },
    {
     "name": "stdout",
     "output_type": "stream",
     "text": [
      "Error fetching data for salaam-e-ishq: 'name'\n"
     ]
    },
    {
     "name": "stderr",
     "output_type": "stream",
     "text": [
      "Processing shows:  31%|██████▍              | 1683/5491 [14:18<32:09,  1.97it/s]"
     ]
    },
    {
     "name": "stdout",
     "output_type": "stream",
     "text": [
      "Error fetching data for anupama: 'name'\n"
     ]
    },
    {
     "name": "stderr",
     "output_type": "stream",
     "text": [
      "Processing shows:  31%|██████▍              | 1686/5491 [14:19<32:00,  1.98it/s]"
     ]
    },
    {
     "name": "stdout",
     "output_type": "stream",
     "text": [
      "Error fetching data for radhika: 'name'\n"
     ]
    },
    {
     "name": "stderr",
     "output_type": "stream",
     "text": [
      "Processing shows:  31%|██████▌              | 1701/5491 [14:27<31:58,  1.98it/s]"
     ]
    },
    {
     "name": "stdout",
     "output_type": "stream",
     "text": [
      "Error fetching data for poison: 'name'\n"
     ]
    },
    {
     "name": "stderr",
     "output_type": "stream",
     "text": [
      "Processing shows:  31%|██████▌              | 1705/5491 [14:29<31:51,  1.98it/s]"
     ]
    },
    {
     "name": "stdout",
     "output_type": "stream",
     "text": [
      "Error fetching data for ye maaya chesave: 'name'\n"
     ]
    },
    {
     "name": "stderr",
     "output_type": "stream",
     "text": [
      "Processing shows:  31%|██████▌              | 1723/5491 [14:38<31:48,  1.97it/s]"
     ]
    },
    {
     "name": "stdout",
     "output_type": "stream",
     "text": [
      "Error fetching data for sandakozhi: 'name'\n"
     ]
    },
    {
     "name": "stderr",
     "output_type": "stream",
     "text": [
      "Processing shows:  33%|██████▉              | 1799/5491 [15:16<31:09,  1.97it/s]"
     ]
    },
    {
     "name": "stdout",
     "output_type": "stream",
     "text": [
      "Error fetching data for kalank: 'name'\n"
     ]
    },
    {
     "name": "stderr",
     "output_type": "stream",
     "text": [
      "Processing shows:  33%|███████              | 1831/5491 [15:33<30:48,  1.98it/s]"
     ]
    },
    {
     "name": "stdout",
     "output_type": "stream",
     "text": [
      "Error fetching data for soubhagyabati: 'name'\n"
     ]
    },
    {
     "name": "stderr",
     "output_type": "stream",
     "text": [
      "Processing shows:  33%|███████              | 1836/5491 [15:35<30:46,  1.98it/s]"
     ]
    },
    {
     "name": "stdout",
     "output_type": "stream",
     "text": [
      "Error fetching data for kaana kanmani: 'name'\n"
     ]
    },
    {
     "name": "stderr",
     "output_type": "stream",
     "text": [
      "Processing shows:  33%|███████              | 1838/5491 [15:36<30:46,  1.98it/s]"
     ]
    },
    {
     "name": "stdout",
     "output_type": "stream",
     "text": [
      "Error fetching data for my senpai is annoying: 'name'\n"
     ]
    },
    {
     "name": "stderr",
     "output_type": "stream",
     "text": [
      "Processing shows:  34%|███████              | 1852/5491 [15:43<30:38,  1.98it/s]"
     ]
    },
    {
     "name": "stdout",
     "output_type": "stream",
     "text": [
      "Error fetching data for ninaithen vandhai: 'name'\n"
     ]
    },
    {
     "name": "stderr",
     "output_type": "stream",
     "text": [
      "Processing shows:  34%|███████              | 1862/5491 [15:48<30:37,  1.98it/s]"
     ]
    },
    {
     "name": "stdout",
     "output_type": "stream",
     "text": [
      "Error fetching data for premaloka: 'name'\n"
     ]
    },
    {
     "name": "stderr",
     "output_type": "stream",
     "text": [
      "Processing shows:  34%|███████▏             | 1869/5491 [15:52<30:33,  1.98it/s]"
     ]
    },
    {
     "name": "stdout",
     "output_type": "stream",
     "text": [
      "Error fetching data for my little baby: 'name'\n"
     ]
    },
    {
     "name": "stderr",
     "output_type": "stream",
     "text": [
      "Processing shows:  35%|███████▎             | 1898/5491 [16:06<30:16,  1.98it/s]"
     ]
    },
    {
     "name": "stdout",
     "output_type": "stream",
     "text": [
      "Error fetching data for shiva: 'name'\n"
     ]
    },
    {
     "name": "stderr",
     "output_type": "stream",
     "text": [
      "Processing shows:  37%|███████▋             | 2026/5491 [17:11<29:10,  1.98it/s]"
     ]
    },
    {
     "name": "stdout",
     "output_type": "stream",
     "text": [
      "Error fetching data for teenage mutant ninja turtles: 'name'\n"
     ]
    },
    {
     "name": "stderr",
     "output_type": "stream",
     "text": [
      "Processing shows:  37%|███████▊             | 2032/5491 [17:14<29:17,  1.97it/s]"
     ]
    },
    {
     "name": "stdout",
     "output_type": "stream",
     "text": [
      "Error fetching data for desher mati: 'name'\n"
     ]
    },
    {
     "name": "stderr",
     "output_type": "stream",
     "text": [
      "Processing shows:  37%|███████▊             | 2036/5491 [17:16<29:11,  1.97it/s]"
     ]
    },
    {
     "name": "stdout",
     "output_type": "stream",
     "text": [
      "Error fetching data for wonder: 'name'\n"
     ]
    },
    {
     "name": "stderr",
     "output_type": "stream",
     "text": [
      "Processing shows:  38%|███████▉             | 2077/5491 [17:37<28:59,  1.96it/s]"
     ]
    },
    {
     "name": "stdout",
     "output_type": "stream",
     "text": [
      "Error fetching data for biyer phool: 'name'\n"
     ]
    },
    {
     "name": "stderr",
     "output_type": "stream",
     "text": [
      "Processing shows:  38%|███████▉             | 2089/5491 [17:43<28:51,  1.96it/s]"
     ]
    },
    {
     "name": "stdout",
     "output_type": "stream",
     "text": [
      "Error fetching data for myna: 'name'\n"
     ]
    },
    {
     "name": "stderr",
     "output_type": "stream",
     "text": [
      "Processing shows:  38%|████████             | 2098/5491 [17:48<28:40,  1.97it/s]"
     ]
    },
    {
     "name": "stdout",
     "output_type": "stream",
     "text": [
      "Error fetching data for curious george: 'name'\n"
     ]
    },
    {
     "name": "stderr",
     "output_type": "stream",
     "text": [
      "Processing shows:  38%|████████             | 2111/5491 [17:54<28:30,  1.98it/s]"
     ]
    },
    {
     "name": "stdout",
     "output_type": "stream",
     "text": [
      "Error fetching data for agni sakshi: 'name'\n"
     ]
    },
    {
     "name": "stderr",
     "output_type": "stream",
     "text": [
      "Processing shows:  39%|████████▏            | 2144/5491 [18:11<28:14,  1.98it/s]"
     ]
    },
    {
     "name": "stdout",
     "output_type": "stream",
     "text": [
      "Error fetching data for the presidents' gatekeepers: 'name'\n"
     ]
    },
    {
     "name": "stderr",
     "output_type": "stream",
     "text": [
      "Processing shows:  39%|████████▏            | 2156/5491 [18:17<28:07,  1.98it/s]"
     ]
    },
    {
     "name": "stdout",
     "output_type": "stream",
     "text": [
      "Error fetching data for aanchal: 'name'\n"
     ]
    },
    {
     "name": "stderr",
     "output_type": "stream",
     "text": [
      "Processing shows:  39%|████████▎            | 2160/5491 [18:19<28:01,  1.98it/s]"
     ]
    },
    {
     "name": "stdout",
     "output_type": "stream",
     "text": [
      "Error fetching data for gumrah: 'name'\n"
     ]
    },
    {
     "name": "stderr",
     "output_type": "stream",
     "text": [
      "Processing shows:  40%|████████▎            | 2170/5491 [18:24<27:58,  1.98it/s]"
     ]
    },
    {
     "name": "stdout",
     "output_type": "stream",
     "text": [
      "Error fetching data for the disappeared: 'name'\n"
     ]
    },
    {
     "name": "stderr",
     "output_type": "stream",
     "text": [
      "Processing shows:  40%|████████▎            | 2172/5491 [18:25<27:57,  1.98it/s]"
     ]
    },
    {
     "name": "stdout",
     "output_type": "stream",
     "text": [
      "Error fetching data for romeo juliet: 'name'\n"
     ]
    },
    {
     "name": "stderr",
     "output_type": "stream",
     "text": [
      "Processing shows:  40%|████████▎            | 2175/5491 [18:27<28:00,  1.97it/s]"
     ]
    },
    {
     "name": "stdout",
     "output_type": "stream",
     "text": [
      "Error fetching data for shark house: 'name'\n"
     ]
    },
    {
     "name": "stderr",
     "output_type": "stream",
     "text": [
      "Processing shows:  40%|████████▍            | 2191/5491 [18:35<27:48,  1.98it/s]"
     ]
    },
    {
     "name": "stdout",
     "output_type": "stream",
     "text": [
      "Error fetching data for koode: 'name'\n"
     ]
    },
    {
     "name": "stderr",
     "output_type": "stream",
     "text": [
      "Processing shows:  41%|████████▌            | 2229/5491 [18:54<27:26,  1.98it/s]"
     ]
    },
    {
     "name": "stdout",
     "output_type": "stream",
     "text": [
      "Error fetching data for 90 day fiance: 'name'\n"
     ]
    },
    {
     "name": "stderr",
     "output_type": "stream",
     "text": [
      "Processing shows:  41%|████████▌            | 2250/5491 [19:05<27:19,  1.98it/s]"
     ]
    },
    {
     "name": "stdout",
     "output_type": "stream",
     "text": [
      "Error fetching data for jamai raja: 'name'\n"
     ]
    },
    {
     "name": "stderr",
     "output_type": "stream",
     "text": [
      "Processing shows:  42%|████████▊            | 2302/5491 [19:31<26:54,  1.98it/s]"
     ]
    },
    {
     "name": "stdout",
     "output_type": "stream",
     "text": [
      "Error fetching data for the inside story: 'name'\n",
      "Error fetching data for paradise: 'name'\n"
     ]
    },
    {
     "name": "stderr",
     "output_type": "stream",
     "text": [
      "Processing shows:  42%|████████▊            | 2319/5491 [19:40<26:46,  1.97it/s]"
     ]
    },
    {
     "name": "stdout",
     "output_type": "stream",
     "text": [
      "Error fetching data for poison: 'name'\n"
     ]
    },
    {
     "name": "stderr",
     "output_type": "stream",
     "text": [
      "Processing shows:  43%|████████▉            | 2349/5491 [19:55<26:28,  1.98it/s]"
     ]
    },
    {
     "name": "stdout",
     "output_type": "stream",
     "text": [
      "Error fetching data for nashe: 'name'\n"
     ]
    },
    {
     "name": "stderr",
     "output_type": "stream",
     "text": [
      "Processing shows:  43%|█████████            | 2363/5491 [20:02<26:21,  1.98it/s]"
     ]
    },
    {
     "name": "stdout",
     "output_type": "stream",
     "text": [
      "Error fetching data for khushi: 'name'\n"
     ]
    },
    {
     "name": "stderr",
     "output_type": "stream",
     "text": [
      "Processing shows:  43%|█████████            | 2381/5491 [20:11<26:14,  1.98it/s]"
     ]
    },
    {
     "name": "stdout",
     "output_type": "stream",
     "text": [
      "Error fetching data for debi: 'name'\n"
     ]
    },
    {
     "name": "stderr",
     "output_type": "stream",
     "text": [
      "Processing shows:  44%|█████████▏           | 2389/5491 [20:15<26:08,  1.98it/s]"
     ]
    },
    {
     "name": "stdout",
     "output_type": "stream",
     "text": [
      "Error fetching data for lakshmi nivasa: 'name'\n"
     ]
    },
    {
     "name": "stderr",
     "output_type": "stream",
     "text": [
      "Processing shows:  44%|█████████▏           | 2418/5491 [20:30<25:57,  1.97it/s]"
     ]
    },
    {
     "name": "stdout",
     "output_type": "stream",
     "text": [
      "Error fetching data for onnanu nammal: 'name'\n"
     ]
    },
    {
     "name": "stderr",
     "output_type": "stream",
     "text": [
      "Processing shows:  44%|█████████▎           | 2431/5491 [20:36<25:55,  1.97it/s]"
     ]
    },
    {
     "name": "stdout",
     "output_type": "stream",
     "text": [
      "Error fetching data for aha naa pellanta: 'name'\n"
     ]
    },
    {
     "name": "stderr",
     "output_type": "stream",
     "text": [
      "Processing shows:  44%|█████████▎           | 2440/5491 [20:41<25:41,  1.98it/s]"
     ]
    },
    {
     "name": "stdout",
     "output_type": "stream",
     "text": [
      "Error fetching data for tasty treats: 'name'\n"
     ]
    },
    {
     "name": "stderr",
     "output_type": "stream",
     "text": [
      "Processing shows:  45%|█████████▍           | 2482/5491 [21:02<25:22,  1.98it/s]"
     ]
    },
    {
     "name": "stdout",
     "output_type": "stream",
     "text": [
      "Error fetching data for the inside story: 'name'\n"
     ]
    },
    {
     "name": "stderr",
     "output_type": "stream",
     "text": [
      "Processing shows:  46%|█████████▋           | 2526/5491 [21:24<24:59,  1.98it/s]"
     ]
    },
    {
     "name": "stdout",
     "output_type": "stream",
     "text": [
      "Error fetching data for sabrina: 'name'\n"
     ]
    },
    {
     "name": "stderr",
     "output_type": "stream",
     "text": [
      "Processing shows:  46%|█████████▊           | 2550/5491 [21:37<24:47,  1.98it/s]"
     ]
    },
    {
     "name": "stdout",
     "output_type": "stream",
     "text": [
      "Error fetching data for raja rani: 'name'\n"
     ]
    },
    {
     "name": "stderr",
     "output_type": "stream",
     "text": [
      "Processing shows:  47%|█████████▊           | 2563/5491 [21:43<24:36,  1.98it/s]"
     ]
    },
    {
     "name": "stdout",
     "output_type": "stream",
     "text": [
      "Error fetching data for dr. babasaheb ambedkar: 'name'\n"
     ]
    },
    {
     "name": "stderr",
     "output_type": "stream",
     "text": [
      "Processing shows:  47%|█████████▊           | 2566/5491 [21:45<24:38,  1.98it/s]"
     ]
    },
    {
     "name": "stdout",
     "output_type": "stream",
     "text": [
      "Error fetching data for glitter: 'name'\n"
     ]
    },
    {
     "name": "stderr",
     "output_type": "stream",
     "text": [
      "Processing shows:  47%|█████████▊           | 2575/5491 [21:49<24:35,  1.98it/s]"
     ]
    },
    {
     "name": "stdout",
     "output_type": "stream",
     "text": [
      "Error fetching data for vettai: 'name'\n"
     ]
    },
    {
     "name": "stderr",
     "output_type": "stream",
     "text": [
      "Processing shows:  47%|█████████▉           | 2590/5491 [21:57<24:24,  1.98it/s]"
     ]
    },
    {
     "name": "stdout",
     "output_type": "stream",
     "text": [
      "Error fetching data for standing tall: 'name'\n"
     ]
    },
    {
     "name": "stderr",
     "output_type": "stream",
     "text": [
      "Processing shows:  47%|█████████▉           | 2593/5491 [21:58<24:25,  1.98it/s]"
     ]
    },
    {
     "name": "stdout",
     "output_type": "stream",
     "text": [
      "Error fetching data for burn the witch: 'name'\n"
     ]
    },
    {
     "name": "stderr",
     "output_type": "stream",
     "text": [
      "Processing shows:  48%|█████████▉           | 2611/5491 [22:07<24:17,  1.98it/s]"
     ]
    },
    {
     "name": "stdout",
     "output_type": "stream",
     "text": [
      "Error fetching data for fear files: 'name'\n"
     ]
    },
    {
     "name": "stderr",
     "output_type": "stream",
     "text": [
      "Processing shows:  48%|██████████           | 2615/5491 [22:09<24:12,  1.98it/s]"
     ]
    },
    {
     "name": "stdout",
     "output_type": "stream",
     "text": [
      "Error fetching data for the test: 'name'\n"
     ]
    },
    {
     "name": "stderr",
     "output_type": "stream",
     "text": [
      "Processing shows:  48%|██████████▏          | 2656/5491 [22:30<23:56,  1.97it/s]"
     ]
    },
    {
     "name": "stdout",
     "output_type": "stream",
     "text": [
      "Error fetching data for gejje pooje: 'name'\n"
     ]
    },
    {
     "name": "stderr",
     "output_type": "stream",
     "text": [
      "Processing shows:  49%|██████████▎          | 2683/5491 [22:44<23:41,  1.98it/s]"
     ]
    },
    {
     "name": "stdout",
     "output_type": "stream",
     "text": [
      "Error fetching data for family no.1: 'name'\n"
     ]
    },
    {
     "name": "stderr",
     "output_type": "stream",
     "text": [
      "Processing shows:  49%|██████████▎          | 2685/5491 [22:45<23:40,  1.97it/s]"
     ]
    },
    {
     "name": "stdout",
     "output_type": "stream",
     "text": [
      "Error fetching data for antakshari: 'name'\n"
     ]
    },
    {
     "name": "stderr",
     "output_type": "stream",
     "text": [
      "Processing shows:  49%|██████████▎          | 2692/5491 [22:48<23:36,  1.98it/s]"
     ]
    },
    {
     "name": "stdout",
     "output_type": "stream",
     "text": [
      "Error fetching data for tukar tambah nasib: 'name'\n"
     ]
    },
    {
     "name": "stderr",
     "output_type": "stream",
     "text": [
      "Processing shows:  49%|██████████▍          | 2717/5491 [23:01<23:25,  1.97it/s]"
     ]
    },
    {
     "name": "stdout",
     "output_type": "stream",
     "text": [
      "Error fetching data for nannaseya hoove: 'name'\n"
     ]
    },
    {
     "name": "stderr",
     "output_type": "stream",
     "text": [
      "Processing shows:  49%|██████████▍          | 2718/5491 [23:02<23:25,  1.97it/s]"
     ]
    },
    {
     "name": "stdout",
     "output_type": "stream",
     "text": [
      "Error fetching data for dell xps youniverse creators: 'name'\n"
     ]
    },
    {
     "name": "stderr",
     "output_type": "stream",
     "text": [
      "Processing shows:  51%|██████████▌          | 2775/5491 [23:30<22:52,  1.98it/s]"
     ]
    },
    {
     "name": "stdout",
     "output_type": "stream",
     "text": [
      "Error fetching data for web of darkness: 'name'\n"
     ]
    },
    {
     "name": "stderr",
     "output_type": "stream",
     "text": [
      "Processing shows:  51%|██████████▋          | 2780/5491 [23:33<22:53,  1.97it/s]"
     ]
    },
    {
     "name": "stdout",
     "output_type": "stream",
     "text": [
      "Error fetching data for the mating game: 'name'\n"
     ]
    },
    {
     "name": "stderr",
     "output_type": "stream",
     "text": [
      "Processing shows:  51%|██████████▋          | 2782/5491 [23:34<22:50,  1.98it/s]"
     ]
    },
    {
     "name": "stdout",
     "output_type": "stream",
     "text": [
      "Error fetching data for sailaab: 'name'\n"
     ]
    },
    {
     "name": "stderr",
     "output_type": "stream",
     "text": [
      "Processing shows:  51%|██████████▋          | 2791/5491 [23:38<22:40,  1.98it/s]"
     ]
    },
    {
     "name": "stdout",
     "output_type": "stream",
     "text": [
      "Error fetching data for the big picture: 'name'\n"
     ]
    },
    {
     "name": "stderr",
     "output_type": "stream",
     "text": [
      "Processing shows:  51%|██████████▋          | 2793/5491 [23:39<22:41,  1.98it/s]"
     ]
    },
    {
     "name": "stdout",
     "output_type": "stream",
     "text": [
      "Error fetching data for yearly departed: 'name'\n"
     ]
    },
    {
     "name": "stderr",
     "output_type": "stream",
     "text": [
      "Processing shows:  51%|██████████▊          | 2813/5491 [23:50<22:36,  1.97it/s]"
     ]
    },
    {
     "name": "stdout",
     "output_type": "stream",
     "text": [
      "Error fetching data for ashtami: 'name'\n"
     ]
    },
    {
     "name": "stderr",
     "output_type": "stream",
     "text": [
      "Processing shows:  52%|██████████▉          | 2845/5491 [24:06<22:17,  1.98it/s]"
     ]
    },
    {
     "name": "stdout",
     "output_type": "stream",
     "text": [
      "Error fetching data for gumrah: 'name'\n"
     ]
    },
    {
     "name": "stderr",
     "output_type": "stream",
     "text": [
      "Processing shows:  52%|██████████▉          | 2849/5491 [24:08<22:17,  1.97it/s]"
     ]
    },
    {
     "name": "stdout",
     "output_type": "stream",
     "text": [
      "Error fetching data for willow: 'name'\n"
     ]
    },
    {
     "name": "stderr",
     "output_type": "stream",
     "text": [
      "Processing shows:  52%|██████████▉          | 2863/5491 [24:15<22:08,  1.98it/s]"
     ]
    },
    {
     "name": "stdout",
     "output_type": "stream",
     "text": [
      "Error fetching data for subhodayam: 'name'\n"
     ]
    },
    {
     "name": "stderr",
     "output_type": "stream",
     "text": [
      "Processing shows:  53%|███████████▏         | 2937/5491 [24:52<21:33,  1.97it/s]"
     ]
    },
    {
     "name": "stdout",
     "output_type": "stream",
     "text": [
      "Error fetching data for pranayavarnangal: 'name'\n"
     ]
    },
    {
     "name": "stderr",
     "output_type": "stream",
     "text": [
      "Processing shows:  54%|███████████▎         | 2953/5491 [25:00<21:23,  1.98it/s]"
     ]
    },
    {
     "name": "stdout",
     "output_type": "stream",
     "text": [
      "Error fetching data for satyabhama: 'name'\n"
     ]
    },
    {
     "name": "stderr",
     "output_type": "stream",
     "text": [
      "Processing shows:  55%|███████████▌         | 3028/5491 [25:38<20:46,  1.98it/s]"
     ]
    },
    {
     "name": "stdout",
     "output_type": "stream",
     "text": [
      "Error fetching data for time after time: 'name'\n"
     ]
    },
    {
     "name": "stderr",
     "output_type": "stream",
     "text": [
      "Processing shows:  55%|███████████▌         | 3039/5491 [25:44<20:38,  1.98it/s]"
     ]
    },
    {
     "name": "stdout",
     "output_type": "stream",
     "text": [
      "Error fetching data for yaar julahay: 'name'\n"
     ]
    },
    {
     "name": "stderr",
     "output_type": "stream",
     "text": [
      "Processing shows:  56%|███████████▋         | 3054/5491 [25:52<20:35,  1.97it/s]"
     ]
    },
    {
     "name": "stdout",
     "output_type": "stream",
     "text": [
      "Error fetching data for arsène wenger: invincible: 'name'\n"
     ]
    },
    {
     "name": "stderr",
     "output_type": "stream",
     "text": [
      "Processing shows:  56%|███████████▋         | 3062/5491 [25:56<20:31,  1.97it/s]"
     ]
    },
    {
     "name": "stdout",
     "output_type": "stream",
     "text": [
      "Error fetching data for poison: 'name'\n"
     ]
    },
    {
     "name": "stderr",
     "output_type": "stream",
     "text": [
      "Processing shows:  57%|███████████▊         | 3103/5491 [26:16<20:05,  1.98it/s]"
     ]
    },
    {
     "name": "stdout",
     "output_type": "stream",
     "text": [
      "Error fetching data for dive!!: 'name'\n"
     ]
    },
    {
     "name": "stderr",
     "output_type": "stream",
     "text": [
      "Processing shows:  57%|███████████▉         | 3123/5491 [26:26<19:58,  1.98it/s]"
     ]
    },
    {
     "name": "stdout",
     "output_type": "stream",
     "text": [
      "Error fetching data for the whale: 'name'\n"
     ]
    },
    {
     "name": "stderr",
     "output_type": "stream",
     "text": [
      "Processing shows:  57%|███████████▉         | 3136/5491 [26:33<19:49,  1.98it/s]"
     ]
    },
    {
     "name": "stdout",
     "output_type": "stream",
     "text": [
      "Error fetching data for neeli: 'name'\n"
     ]
    },
    {
     "name": "stderr",
     "output_type": "stream",
     "text": [
      "Processing shows:  57%|████████████         | 3145/5491 [26:38<19:49,  1.97it/s]"
     ]
    },
    {
     "name": "stdout",
     "output_type": "stream",
     "text": [
      "Error fetching data for vaanavil: 'name'\n"
     ]
    },
    {
     "name": "stderr",
     "output_type": "stream",
     "text": [
      "Processing shows:  58%|████████████▏        | 3202/5491 [27:07<19:28,  1.96it/s]"
     ]
    },
    {
     "name": "stdout",
     "output_type": "stream",
     "text": [
      "Error fetching data for the crimson rivers: 'name'\n"
     ]
    },
    {
     "name": "stderr",
     "output_type": "stream",
     "text": [
      "Processing shows:  58%|████████████▎        | 3205/5491 [27:08<19:18,  1.97it/s]"
     ]
    },
    {
     "name": "stdout",
     "output_type": "stream",
     "text": [
      "Error fetching data for the confession: 'name'\n"
     ]
    },
    {
     "name": "stderr",
     "output_type": "stream",
     "text": [
      "Processing shows:  58%|████████████▎        | 3207/5491 [27:09<19:22,  1.96it/s]"
     ]
    },
    {
     "name": "stdout",
     "output_type": "stream",
     "text": [
      "Error fetching data for 12 monkeys: 'name'\n"
     ]
    },
    {
     "name": "stderr",
     "output_type": "stream",
     "text": [
      "Processing shows:  59%|████████████▎        | 3218/5491 [27:15<19:11,  1.97it/s]"
     ]
    },
    {
     "name": "stdout",
     "output_type": "stream",
     "text": [
      "Error fetching data for ramayana: 'name'\n"
     ]
    },
    {
     "name": "stderr",
     "output_type": "stream",
     "text": [
      "Processing shows:  59%|████████████▍        | 3251/5491 [27:31<19:00,  1.96it/s]"
     ]
    },
    {
     "name": "stdout",
     "output_type": "stream",
     "text": [
      "Error fetching data for bhanwar: 'name'\n"
     ]
    },
    {
     "name": "stderr",
     "output_type": "stream",
     "text": [
      "Processing shows:  59%|████████████▍        | 3255/5491 [27:34<18:58,  1.96it/s]"
     ]
    },
    {
     "name": "stdout",
     "output_type": "stream",
     "text": [
      "Error fetching data for pari: 'name'\n"
     ]
    },
    {
     "name": "stderr",
     "output_type": "stream",
     "text": [
      "Processing shows:  60%|████████████▌        | 3272/5491 [27:42<18:48,  1.97it/s]"
     ]
    },
    {
     "name": "stdout",
     "output_type": "stream",
     "text": [
      "Error fetching data for family doctor: 'name'\n"
     ]
    },
    {
     "name": "stderr",
     "output_type": "stream",
     "text": [
      "Processing shows:  60%|████████████▌        | 3281/5491 [27:47<18:46,  1.96it/s]"
     ]
    },
    {
     "name": "stdout",
     "output_type": "stream",
     "text": [
      "Error fetching data for indira: 'name'\n"
     ]
    },
    {
     "name": "stderr",
     "output_type": "stream",
     "text": [
      "Processing shows:  60%|████████████▌        | 3286/5491 [27:49<18:44,  1.96it/s]"
     ]
    },
    {
     "name": "stdout",
     "output_type": "stream",
     "text": [
      "Error fetching data for anjali: 'name'\n"
     ]
    },
    {
     "name": "stderr",
     "output_type": "stream",
     "text": [
      "Processing shows:  60%|████████████▋        | 3302/5491 [27:57<18:40,  1.95it/s]"
     ]
    },
    {
     "name": "stdout",
     "output_type": "stream",
     "text": [
      "Error fetching data for om shanti om: 'name'\n"
     ]
    },
    {
     "name": "stderr",
     "output_type": "stream",
     "text": [
      "Processing shows:  60%|████████████▋        | 3305/5491 [27:59<18:32,  1.97it/s]"
     ]
    },
    {
     "name": "stdout",
     "output_type": "stream",
     "text": [
      "Error fetching data for sabrina: 'name'\n"
     ]
    },
    {
     "name": "stderr",
     "output_type": "stream",
     "text": [
      "Processing shows:  61%|████████████▊        | 3335/5491 [28:14<18:18,  1.96it/s]"
     ]
    },
    {
     "name": "stdout",
     "output_type": "stream",
     "text": [
      "Error fetching data for angel city: 'name'\n"
     ]
    },
    {
     "name": "stderr",
     "output_type": "stream",
     "text": [
      "Processing shows:  61%|████████████▊        | 3341/5491 [28:17<18:12,  1.97it/s]"
     ]
    },
    {
     "name": "stdout",
     "output_type": "stream",
     "text": [
      "Error fetching data for mamagaru: 'name'\n"
     ]
    },
    {
     "name": "stderr",
     "output_type": "stream",
     "text": [
      "Processing shows:  61%|████████████▊        | 3354/5491 [28:24<18:08,  1.96it/s]"
     ]
    },
    {
     "name": "stdout",
     "output_type": "stream",
     "text": [
      "Error fetching data for postmaster: 'name'\n"
     ]
    },
    {
     "name": "stderr",
     "output_type": "stream",
     "text": [
      "Processing shows:  62%|████████████▉        | 3377/5491 [28:36<17:57,  1.96it/s]"
     ]
    },
    {
     "name": "stdout",
     "output_type": "stream",
     "text": [
      "Error fetching data for indrani: 'name'\n"
     ]
    },
    {
     "name": "stderr",
     "output_type": "stream",
     "text": [
      "Processing shows:  62%|█████████████        | 3405/5491 [28:50<17:45,  1.96it/s]"
     ]
    },
    {
     "name": "stdout",
     "output_type": "stream",
     "text": [
      "Error fetching data for lethal weapon: 'name'\n"
     ]
    },
    {
     "name": "stderr",
     "output_type": "stream",
     "text": [
      "Processing shows:  62%|█████████████        | 3411/5491 [28:53<17:36,  1.97it/s]"
     ]
    },
    {
     "name": "stdout",
     "output_type": "stream",
     "text": [
      "Error fetching data for india 2050: 'name'\n"
     ]
    },
    {
     "name": "stderr",
     "output_type": "stream",
     "text": [
      "Processing shows:  63%|█████████████▏       | 3454/5491 [29:15<17:12,  1.97it/s]"
     ]
    },
    {
     "name": "stdout",
     "output_type": "stream",
     "text": [
      "Error fetching data for kanyadaan: 'name'\n"
     ]
    },
    {
     "name": "stderr",
     "output_type": "stream",
     "text": [
      "Processing shows:  63%|█████████████▏       | 3460/5491 [29:18<17:10,  1.97it/s]"
     ]
    },
    {
     "name": "stdout",
     "output_type": "stream",
     "text": [
      "Error fetching data for house of horrors: 'name'\n"
     ]
    },
    {
     "name": "stderr",
     "output_type": "stream",
     "text": [
      "Processing shows:  63%|█████████████▎       | 3471/5491 [29:23<17:08,  1.96it/s]"
     ]
    },
    {
     "name": "stdout",
     "output_type": "stream",
     "text": [
      "Error fetching data for chloe: 'name'\n"
     ]
    },
    {
     "name": "stderr",
     "output_type": "stream",
     "text": [
      "Processing shows:  63%|█████████████▎       | 3483/5491 [29:30<17:05,  1.96it/s]"
     ]
    },
    {
     "name": "stdout",
     "output_type": "stream",
     "text": [
      "Error fetching data for life is beautiful: 'name'\n"
     ]
    },
    {
     "name": "stderr",
     "output_type": "stream",
     "text": [
      "Processing shows:  64%|█████████████▎       | 3490/5491 [29:33<16:56,  1.97it/s]"
     ]
    },
    {
     "name": "stdout",
     "output_type": "stream",
     "text": [
      "Error fetching data for besuge: 'name'\n"
     ]
    },
    {
     "name": "stderr",
     "output_type": "stream",
     "text": [
      "Processing shows:  64%|█████████████▎       | 3492/5491 [29:34<16:59,  1.96it/s]"
     ]
    },
    {
     "name": "stdout",
     "output_type": "stream",
     "text": [
      "Error fetching data for maari: 'name'\n"
     ]
    },
    {
     "name": "stderr",
     "output_type": "stream",
     "text": [
      "Processing shows:  64%|█████████████▌       | 3534/5491 [29:56<16:35,  1.97it/s]"
     ]
    },
    {
     "name": "stdout",
     "output_type": "stream",
     "text": [
      "Error fetching data for in your dreams: 'name'\n"
     ]
    },
    {
     "name": "stderr",
     "output_type": "stream",
     "text": [
      "Processing shows:  65%|█████████████▌       | 3552/5491 [30:05<16:27,  1.96it/s]"
     ]
    },
    {
     "name": "stdout",
     "output_type": "stream",
     "text": [
      "Error fetching data for intuition: 'name'\n"
     ]
    },
    {
     "name": "stderr",
     "output_type": "stream",
     "text": [
      "Processing shows:  65%|█████████████▋       | 3577/5491 [30:17<16:13,  1.97it/s]"
     ]
    },
    {
     "name": "stdout",
     "output_type": "stream",
     "text": [
      "Error fetching data for clifford the big red dog: 'name'\n"
     ]
    },
    {
     "name": "stderr",
     "output_type": "stream",
     "text": [
      "Processing shows:  65%|█████████████▋       | 3585/5491 [30:22<16:07,  1.97it/s]"
     ]
    },
    {
     "name": "stdout",
     "output_type": "stream",
     "text": [
      "Error fetching data for badman: 'name'\n"
     ]
    },
    {
     "name": "stderr",
     "output_type": "stream",
     "text": [
      "Processing shows:  66%|█████████████▉       | 3641/5491 [30:50<15:42,  1.96it/s]"
     ]
    },
    {
     "name": "stdout",
     "output_type": "stream",
     "text": [
      "Error fetching data for refugee: 'name'\n"
     ]
    },
    {
     "name": "stderr",
     "output_type": "stream",
     "text": [
      "Processing shows:  66%|█████████████▉       | 3648/5491 [30:54<15:37,  1.97it/s]"
     ]
    },
    {
     "name": "stdout",
     "output_type": "stream",
     "text": [
      "Error fetching data for joker: 'name'\n"
     ]
    },
    {
     "name": "stderr",
     "output_type": "stream",
     "text": [
      "Processing shows:  67%|█████████████▉       | 3653/5491 [30:56<15:35,  1.96it/s]"
     ]
    },
    {
     "name": "stdout",
     "output_type": "stream",
     "text": [
      "Error fetching data for the 2018 rose parade hosted by cord & tish: 'name'\n"
     ]
    },
    {
     "name": "stderr",
     "output_type": "stream",
     "text": [
      "Processing shows:  67%|██████████████       | 3661/5491 [31:00<15:30,  1.97it/s]"
     ]
    },
    {
     "name": "stdout",
     "output_type": "stream",
     "text": [
      "Error fetching data for suhaga sindura: 'name'\n"
     ]
    },
    {
     "name": "stderr",
     "output_type": "stream",
     "text": [
      "Processing shows:  68%|██████████████▏      | 3709/5491 [31:25<15:07,  1.96it/s]"
     ]
    },
    {
     "name": "stdout",
     "output_type": "stream",
     "text": [
      "Error fetching data for jeevana chaitra: 'name'\n"
     ]
    },
    {
     "name": "stderr",
     "output_type": "stream",
     "text": [
      "Processing shows:  68%|██████████████▏      | 3718/5491 [31:29<15:01,  1.97it/s]"
     ]
    },
    {
     "name": "stdout",
     "output_type": "stream",
     "text": [
      "Error fetching data for milana: 'name'\n"
     ]
    },
    {
     "name": "stderr",
     "output_type": "stream",
     "text": [
      "Processing shows:  68%|██████████████▎      | 3731/5491 [31:36<14:56,  1.96it/s]"
     ]
    },
    {
     "name": "stdout",
     "output_type": "stream",
     "text": [
      "Error fetching data for nee sneham: 'name'\n"
     ]
    },
    {
     "name": "stderr",
     "output_type": "stream",
     "text": [
      "Processing shows:  69%|██████████████▍      | 3782/5491 [32:02<14:28,  1.97it/s]"
     ]
    },
    {
     "name": "stdout",
     "output_type": "stream",
     "text": [
      "Error fetching data for young dreams: 'name'\n"
     ]
    },
    {
     "name": "stderr",
     "output_type": "stream",
     "text": [
      "Processing shows:  70%|██████████████▌      | 3819/5491 [32:21<14:05,  1.98it/s]"
     ]
    },
    {
     "name": "stdout",
     "output_type": "stream",
     "text": [
      "Error fetching data for little singham: kaal ka badla: 'name'\n"
     ]
    },
    {
     "name": "stderr",
     "output_type": "stream",
     "text": [
      "Processing shows:  70%|██████████████▌      | 3821/5491 [32:22<14:04,  1.98it/s]"
     ]
    },
    {
     "name": "stdout",
     "output_type": "stream",
     "text": [
      "Error fetching data for skyfire: 'name'\n"
     ]
    },
    {
     "name": "stderr",
     "output_type": "stream",
     "text": [
      "Processing shows:  70%|██████████████▋      | 3840/5491 [32:31<13:58,  1.97it/s]"
     ]
    },
    {
     "name": "stdout",
     "output_type": "stream",
     "text": [
      "Error fetching data for apoorva sangama: 'name'\n"
     ]
    },
    {
     "name": "stderr",
     "output_type": "stream",
     "text": [
      "Processing shows:  70%|██████████████▋      | 3848/5491 [32:35<13:57,  1.96it/s]"
     ]
    },
    {
     "name": "stdout",
     "output_type": "stream",
     "text": [
      "Error fetching data for sabrina: 'name'\n"
     ]
    },
    {
     "name": "stderr",
     "output_type": "stream",
     "text": [
      "Processing shows:  70%|██████████████▋      | 3854/5491 [32:38<13:49,  1.97it/s]"
     ]
    },
    {
     "name": "stdout",
     "output_type": "stream",
     "text": [
      "Error fetching data for subhadram: 'name'\n"
     ]
    },
    {
     "name": "stderr",
     "output_type": "stream",
     "text": [
      "Processing shows:  71%|██████████████▊      | 3880/5491 [32:52<13:40,  1.96it/s]"
     ]
    },
    {
     "name": "stdout",
     "output_type": "stream",
     "text": [
      "Error fetching data for beyond the clouds: 'name'\n"
     ]
    },
    {
     "name": "stderr",
     "output_type": "stream",
     "text": [
      "Processing shows:  73%|███████████████▎     | 3990/5491 [33:48<12:43,  1.97it/s]"
     ]
    },
    {
     "name": "stdout",
     "output_type": "stream",
     "text": [
      "Error fetching data for gulmohar: 'name'\n"
     ]
    },
    {
     "name": "stderr",
     "output_type": "stream",
     "text": [
      "Processing shows:  73%|███████████████▎     | 4018/5491 [34:02<12:31,  1.96it/s]"
     ]
    },
    {
     "name": "stdout",
     "output_type": "stream",
     "text": [
      "Error fetching data for nazar ke samne: 'name'\n"
     ]
    },
    {
     "name": "stderr",
     "output_type": "stream",
     "text": [
      "Processing shows:  73%|███████████████▎     | 4020/5491 [34:03<12:28,  1.97it/s]"
     ]
    },
    {
     "name": "stdout",
     "output_type": "stream",
     "text": [
      "Error fetching data for anbe sivam: 'name'\n"
     ]
    },
    {
     "name": "stderr",
     "output_type": "stream",
     "text": [
      "Processing shows:  74%|███████████████▌     | 4084/5491 [34:35<11:53,  1.97it/s]"
     ]
    },
    {
     "name": "stdout",
     "output_type": "stream",
     "text": [
      "Error fetching data for anna thangi: 'name'\n"
     ]
    },
    {
     "name": "stderr",
     "output_type": "stream",
     "text": [
      "Processing shows:  75%|███████████████▋     | 4114/5491 [34:51<11:44,  1.96it/s]"
     ]
    },
    {
     "name": "stdout",
     "output_type": "stream",
     "text": [
      "Error fetching data for shiva: 'name'\n"
     ]
    },
    {
     "name": "stderr",
     "output_type": "stream",
     "text": [
      "Processing shows:  75%|███████████████▊     | 4141/5491 [35:04<11:26,  1.97it/s]"
     ]
    },
    {
     "name": "stdout",
     "output_type": "stream",
     "text": [
      "Error fetching data for ladies and gentlemen: 'name'\n"
     ]
    },
    {
     "name": "stderr",
     "output_type": "stream",
     "text": [
      "Processing shows:  75%|███████████████▊     | 4145/5491 [35:06<11:22,  1.97it/s]"
     ]
    },
    {
     "name": "stdout",
     "output_type": "stream",
     "text": [
      "Error fetching data for dabangg: 'name'\n"
     ]
    },
    {
     "name": "stderr",
     "output_type": "stream",
     "text": [
      "Processing shows:  76%|███████████████▉     | 4158/5491 [35:13<11:18,  1.97it/s]2024-07-16 14:43:47,600 CRITICAL [imdbpy] /Users/girirajpurohit23/.pyenv/versions/3.11.0/lib/python3.11/site-packages/imdb/_exceptions.py:32: IMDbDataAccessError exception raised; args: ({'errcode': None, 'errmsg': 'None', 'url': 'https://www.imdb.com/title/tt18263296/plotsummary', 'proxy': '', 'exception type': 'IOError', 'original exception': TimeoutError('The read operation timed out')},); kwds: {}\n",
      "Traceback (most recent call last):\n",
      "  File \"/Users/girirajpurohit23/.pyenv/versions/3.11.0/lib/python3.11/site-packages/imdb/parser/http/__init__.py\", line 233, in retrieve_unicode\n",
      "    response = uopener.open(url)\n",
      "               ^^^^^^^^^^^^^^^^^\n",
      "  File \"/Users/girirajpurohit23/.pyenv/versions/3.11.0/lib/python3.11/urllib/request.py\", line 525, in open\n",
      "    response = meth(req, response)\n",
      "               ^^^^^^^^^^^^^^^^^^^\n",
      "  File \"/Users/girirajpurohit23/.pyenv/versions/3.11.0/lib/python3.11/urllib/request.py\", line 634, in http_response\n",
      "    response = self.parent.error(\n",
      "               ^^^^^^^^^^^^^^^^^^\n",
      "  File \"/Users/girirajpurohit23/.pyenv/versions/3.11.0/lib/python3.11/urllib/request.py\", line 557, in error\n",
      "    result = self._call_chain(*args)\n",
      "             ^^^^^^^^^^^^^^^^^^^^^^^\n",
      "  File \"/Users/girirajpurohit23/.pyenv/versions/3.11.0/lib/python3.11/urllib/request.py\", line 496, in _call_chain\n",
      "    result = func(*args)\n",
      "             ^^^^^^^^^^^\n",
      "  File \"/Users/girirajpurohit23/.pyenv/versions/3.11.0/lib/python3.11/site-packages/imdb/parser/http/__init__.py\", line 159, in http_error_308\n",
      "    return super(IMDbHTTPRedirectHandler, self).http_error_302(req, fp, code, msg, headers)\n",
      "           ^^^^^^^^^^^^^^^^^^^^^^^^^^^^^^^^^^^^^^^^^^^^^^^^^^^^^^^^^^^^^^^^^^^^^^^^^^^^^^^^\n",
      "  File \"/Users/girirajpurohit23/.pyenv/versions/3.11.0/lib/python3.11/urllib/request.py\", line 749, in http_error_302\n",
      "    return self.parent.open(new, timeout=req.timeout)\n",
      "           ^^^^^^^^^^^^^^^^^^^^^^^^^^^^^^^^^^^^^^^^^^\n",
      "  File \"/Users/girirajpurohit23/.pyenv/versions/3.11.0/lib/python3.11/urllib/request.py\", line 519, in open\n",
      "    response = self._open(req, data)\n",
      "               ^^^^^^^^^^^^^^^^^^^^^\n",
      "  File \"/Users/girirajpurohit23/.pyenv/versions/3.11.0/lib/python3.11/urllib/request.py\", line 536, in _open\n",
      "    result = self._call_chain(self.handle_open, protocol, protocol +\n",
      "             ^^^^^^^^^^^^^^^^^^^^^^^^^^^^^^^^^^^^^^^^^^^^^^^^^^^^^^^\n",
      "  File \"/Users/girirajpurohit23/.pyenv/versions/3.11.0/lib/python3.11/urllib/request.py\", line 496, in _call_chain\n",
      "    result = func(*args)\n",
      "             ^^^^^^^^^^^\n",
      "  File \"/Users/girirajpurohit23/.pyenv/versions/3.11.0/lib/python3.11/urllib/request.py\", line 1391, in https_open\n",
      "    return self.do_open(http.client.HTTPSConnection, req,\n",
      "           ^^^^^^^^^^^^^^^^^^^^^^^^^^^^^^^^^^^^^^^^^^^^^^\n",
      "  File \"/Users/girirajpurohit23/.pyenv/versions/3.11.0/lib/python3.11/urllib/request.py\", line 1352, in do_open\n",
      "    r = h.getresponse()\n",
      "        ^^^^^^^^^^^^^^^\n",
      "  File \"/Users/girirajpurohit23/.pyenv/versions/3.11.0/lib/python3.11/http/client.py\", line 1374, in getresponse\n",
      "    response.begin()\n",
      "  File \"/Users/girirajpurohit23/.pyenv/versions/3.11.0/lib/python3.11/http/client.py\", line 318, in begin\n",
      "    version, status, reason = self._read_status()\n",
      "                              ^^^^^^^^^^^^^^^^^^^\n",
      "  File \"/Users/girirajpurohit23/.pyenv/versions/3.11.0/lib/python3.11/http/client.py\", line 279, in _read_status\n",
      "    line = str(self.fp.readline(_MAXLINE + 1), \"iso-8859-1\")\n",
      "               ^^^^^^^^^^^^^^^^^^^^^^^^^^^^^^\n",
      "  File \"/Users/girirajpurohit23/.pyenv/versions/3.11.0/lib/python3.11/socket.py\", line 705, in readinto\n",
      "    return self._sock.recv_into(b)\n",
      "           ^^^^^^^^^^^^^^^^^^^^^^^\n",
      "  File \"/Users/girirajpurohit23/.pyenv/versions/3.11.0/lib/python3.11/ssl.py\", line 1278, in recv_into\n",
      "    return self.read(nbytes, buffer)\n",
      "           ^^^^^^^^^^^^^^^^^^^^^^^^^\n",
      "  File \"/Users/girirajpurohit23/.pyenv/versions/3.11.0/lib/python3.11/ssl.py\", line 1134, in read\n",
      "    return self._sslobj.read(len, buffer)\n",
      "           ^^^^^^^^^^^^^^^^^^^^^^^^^^^^^^\n",
      "TimeoutError: The read operation timed out\n",
      "2024-07-16 14:43:47,610 CRITICAL [imdbpy] /Users/girirajpurohit23/.pyenv/versions/3.11.0/lib/python3.11/site-packages/imdb/__init__.py:850: caught an exception retrieving or parsing \"plot\" info set for mopID \"18263296\" (accessSystem: http)\n",
      "Traceback (most recent call last):\n",
      "  File \"/Users/girirajpurohit23/.pyenv/versions/3.11.0/lib/python3.11/site-packages/imdb/parser/http/__init__.py\", line 233, in retrieve_unicode\n",
      "    response = uopener.open(url)\n",
      "               ^^^^^^^^^^^^^^^^^\n",
      "  File \"/Users/girirajpurohit23/.pyenv/versions/3.11.0/lib/python3.11/urllib/request.py\", line 525, in open\n",
      "    response = meth(req, response)\n",
      "               ^^^^^^^^^^^^^^^^^^^\n",
      "  File \"/Users/girirajpurohit23/.pyenv/versions/3.11.0/lib/python3.11/urllib/request.py\", line 634, in http_response\n",
      "    response = self.parent.error(\n",
      "               ^^^^^^^^^^^^^^^^^^\n",
      "  File \"/Users/girirajpurohit23/.pyenv/versions/3.11.0/lib/python3.11/urllib/request.py\", line 557, in error\n",
      "    result = self._call_chain(*args)\n",
      "             ^^^^^^^^^^^^^^^^^^^^^^^\n",
      "  File \"/Users/girirajpurohit23/.pyenv/versions/3.11.0/lib/python3.11/urllib/request.py\", line 496, in _call_chain\n",
      "    result = func(*args)\n",
      "             ^^^^^^^^^^^\n",
      "  File \"/Users/girirajpurohit23/.pyenv/versions/3.11.0/lib/python3.11/site-packages/imdb/parser/http/__init__.py\", line 159, in http_error_308\n",
      "    return super(IMDbHTTPRedirectHandler, self).http_error_302(req, fp, code, msg, headers)\n",
      "           ^^^^^^^^^^^^^^^^^^^^^^^^^^^^^^^^^^^^^^^^^^^^^^^^^^^^^^^^^^^^^^^^^^^^^^^^^^^^^^^^\n",
      "  File \"/Users/girirajpurohit23/.pyenv/versions/3.11.0/lib/python3.11/urllib/request.py\", line 749, in http_error_302\n",
      "    return self.parent.open(new, timeout=req.timeout)\n",
      "           ^^^^^^^^^^^^^^^^^^^^^^^^^^^^^^^^^^^^^^^^^^\n",
      "  File \"/Users/girirajpurohit23/.pyenv/versions/3.11.0/lib/python3.11/urllib/request.py\", line 519, in open\n",
      "    response = self._open(req, data)\n",
      "               ^^^^^^^^^^^^^^^^^^^^^\n",
      "  File \"/Users/girirajpurohit23/.pyenv/versions/3.11.0/lib/python3.11/urllib/request.py\", line 536, in _open\n",
      "    result = self._call_chain(self.handle_open, protocol, protocol +\n",
      "             ^^^^^^^^^^^^^^^^^^^^^^^^^^^^^^^^^^^^^^^^^^^^^^^^^^^^^^^\n",
      "  File \"/Users/girirajpurohit23/.pyenv/versions/3.11.0/lib/python3.11/urllib/request.py\", line 496, in _call_chain\n",
      "    result = func(*args)\n",
      "             ^^^^^^^^^^^\n",
      "  File \"/Users/girirajpurohit23/.pyenv/versions/3.11.0/lib/python3.11/urllib/request.py\", line 1391, in https_open\n",
      "    return self.do_open(http.client.HTTPSConnection, req,\n",
      "           ^^^^^^^^^^^^^^^^^^^^^^^^^^^^^^^^^^^^^^^^^^^^^^\n",
      "  File \"/Users/girirajpurohit23/.pyenv/versions/3.11.0/lib/python3.11/urllib/request.py\", line 1352, in do_open\n",
      "    r = h.getresponse()\n",
      "        ^^^^^^^^^^^^^^^\n",
      "  File \"/Users/girirajpurohit23/.pyenv/versions/3.11.0/lib/python3.11/http/client.py\", line 1374, in getresponse\n",
      "    response.begin()\n",
      "  File \"/Users/girirajpurohit23/.pyenv/versions/3.11.0/lib/python3.11/http/client.py\", line 318, in begin\n",
      "    version, status, reason = self._read_status()\n",
      "                              ^^^^^^^^^^^^^^^^^^^\n",
      "  File \"/Users/girirajpurohit23/.pyenv/versions/3.11.0/lib/python3.11/http/client.py\", line 279, in _read_status\n",
      "    line = str(self.fp.readline(_MAXLINE + 1), \"iso-8859-1\")\n",
      "               ^^^^^^^^^^^^^^^^^^^^^^^^^^^^^^\n",
      "  File \"/Users/girirajpurohit23/.pyenv/versions/3.11.0/lib/python3.11/socket.py\", line 705, in readinto\n",
      "    return self._sock.recv_into(b)\n",
      "           ^^^^^^^^^^^^^^^^^^^^^^^\n",
      "  File \"/Users/girirajpurohit23/.pyenv/versions/3.11.0/lib/python3.11/ssl.py\", line 1278, in recv_into\n",
      "    return self.read(nbytes, buffer)\n",
      "           ^^^^^^^^^^^^^^^^^^^^^^^^^\n",
      "  File \"/Users/girirajpurohit23/.pyenv/versions/3.11.0/lib/python3.11/ssl.py\", line 1134, in read\n",
      "    return self._sslobj.read(len, buffer)\n",
      "           ^^^^^^^^^^^^^^^^^^^^^^^^^^^^^^\n",
      "TimeoutError: The read operation timed out\n",
      "\n",
      "During handling of the above exception, another exception occurred:\n",
      "\n",
      "Traceback (most recent call last):\n",
      "  File \"/Users/girirajpurohit23/.pyenv/versions/3.11.0/lib/python3.11/site-packages/imdb/__init__.py\", line 848, in update\n",
      "    ret = method(mopID)\n",
      "          ^^^^^^^^^^^^^\n",
      "  File \"/Users/girirajpurohit23/.pyenv/versions/3.11.0/lib/python3.11/site-packages/imdb/parser/http/__init__.py\", line 498, in get_movie_plot\n",
      "    cont = self._retrieve(self.urls['movie_main'] % movieID + 'plotsummary')\n",
      "           ^^^^^^^^^^^^^^^^^^^^^^^^^^^^^^^^^^^^^^^^^^^^^^^^^^^^^^^^^^^^^^^^^\n",
      "  File \"/Users/girirajpurohit23/.pyenv/versions/3.11.0/lib/python3.11/site-packages/imdb/parser/http/__init__.py\", line 392, in _retrieve\n",
      "    ret = self.urlOpener.retrieve_unicode(url, size=size)\n",
      "          ^^^^^^^^^^^^^^^^^^^^^^^^^^^^^^^^^^^^^^^^^^^^^^^\n",
      "  File \"/Users/girirajpurohit23/.pyenv/versions/3.11.0/lib/python3.11/site-packages/imdb/parser/http/__init__.py\", line 261, in retrieve_unicode\n",
      "    raise IMDbDataAccessError(\n",
      "imdb._exceptions.IMDbDataAccessError: {'errcode': None, 'errmsg': 'None', 'url': 'https://www.imdb.com/title/tt18263296/plotsummary', 'proxy': '', 'exception type': 'IOError', 'original exception': TimeoutError('The read operation timed out')}\n",
      "Processing shows:  76%|███████████████▉     | 4159/5491 [35:14<11:18,  1.96it/s]"
     ]
    },
    {
     "name": "stdout",
     "output_type": "stream",
     "text": [
      "Error fetching data for down home fab: {'errcode': None, 'errmsg': 'None', 'url': 'https://www.imdb.com/title/tt18263296/plotsummary', 'proxy': '', 'exception type': 'IOError', 'original exception': TimeoutError('The read operation timed out')}\n"
     ]
    },
    {
     "name": "stderr",
     "output_type": "stream",
     "text": [
      "Processing shows:  76%|███████████████▉     | 4162/5491 [35:15<11:17,  1.96it/s]2024-07-16 14:43:49,790 CRITICAL [imdbpy] /Users/girirajpurohit23/.pyenv/versions/3.11.0/lib/python3.11/site-packages/imdb/_exceptions.py:32: IMDbDataAccessError exception raised; args: ({'errcode': None, 'errmsg': 'None', 'url': 'https://www.imdb.com/find/?q=cruise+the+world&s=tt', 'proxy': '', 'exception type': 'IOError', 'original exception': TimeoutError('The read operation timed out')},); kwds: {}\n",
      "Traceback (most recent call last):\n",
      "  File \"/Users/girirajpurohit23/.pyenv/versions/3.11.0/lib/python3.11/site-packages/imdb/parser/http/__init__.py\", line 233, in retrieve_unicode\n",
      "    response = uopener.open(url)\n",
      "               ^^^^^^^^^^^^^^^^^\n",
      "  File \"/Users/girirajpurohit23/.pyenv/versions/3.11.0/lib/python3.11/urllib/request.py\", line 519, in open\n",
      "    response = self._open(req, data)\n",
      "               ^^^^^^^^^^^^^^^^^^^^^\n",
      "  File \"/Users/girirajpurohit23/.pyenv/versions/3.11.0/lib/python3.11/urllib/request.py\", line 536, in _open\n",
      "    result = self._call_chain(self.handle_open, protocol, protocol +\n",
      "             ^^^^^^^^^^^^^^^^^^^^^^^^^^^^^^^^^^^^^^^^^^^^^^^^^^^^^^^\n",
      "  File \"/Users/girirajpurohit23/.pyenv/versions/3.11.0/lib/python3.11/urllib/request.py\", line 496, in _call_chain\n",
      "    result = func(*args)\n",
      "             ^^^^^^^^^^^\n",
      "  File \"/Users/girirajpurohit23/.pyenv/versions/3.11.0/lib/python3.11/urllib/request.py\", line 1391, in https_open\n",
      "    return self.do_open(http.client.HTTPSConnection, req,\n",
      "           ^^^^^^^^^^^^^^^^^^^^^^^^^^^^^^^^^^^^^^^^^^^^^^\n",
      "  File \"/Users/girirajpurohit23/.pyenv/versions/3.11.0/lib/python3.11/urllib/request.py\", line 1352, in do_open\n",
      "    r = h.getresponse()\n",
      "        ^^^^^^^^^^^^^^^\n",
      "  File \"/Users/girirajpurohit23/.pyenv/versions/3.11.0/lib/python3.11/http/client.py\", line 1374, in getresponse\n",
      "    response.begin()\n",
      "  File \"/Users/girirajpurohit23/.pyenv/versions/3.11.0/lib/python3.11/http/client.py\", line 318, in begin\n",
      "    version, status, reason = self._read_status()\n",
      "                              ^^^^^^^^^^^^^^^^^^^\n",
      "  File \"/Users/girirajpurohit23/.pyenv/versions/3.11.0/lib/python3.11/http/client.py\", line 279, in _read_status\n",
      "    line = str(self.fp.readline(_MAXLINE + 1), \"iso-8859-1\")\n",
      "               ^^^^^^^^^^^^^^^^^^^^^^^^^^^^^^\n",
      "  File \"/Users/girirajpurohit23/.pyenv/versions/3.11.0/lib/python3.11/socket.py\", line 705, in readinto\n",
      "    return self._sock.recv_into(b)\n",
      "           ^^^^^^^^^^^^^^^^^^^^^^^\n",
      "  File \"/Users/girirajpurohit23/.pyenv/versions/3.11.0/lib/python3.11/ssl.py\", line 1278, in recv_into\n",
      "    return self.read(nbytes, buffer)\n",
      "           ^^^^^^^^^^^^^^^^^^^^^^^^^\n",
      "  File \"/Users/girirajpurohit23/.pyenv/versions/3.11.0/lib/python3.11/ssl.py\", line 1134, in read\n",
      "    return self._sslobj.read(len, buffer)\n",
      "           ^^^^^^^^^^^^^^^^^^^^^^^^^^^^^^\n",
      "TimeoutError: The read operation timed out\n",
      "2024-07-16 14:43:49,851 CRITICAL [imdbpy] /Users/girirajpurohit23/.pyenv/versions/3.11.0/lib/python3.11/site-packages/imdb/_exceptions.py:32: IMDbDataAccessError exception raised; args: ({'errcode': None, 'errmsg': 'None', 'url': 'https://www.imdb.com/title/tt0094731/plotsummary', 'proxy': '', 'exception type': 'IOError', 'original exception': TimeoutError('The read operation timed out')},); kwds: {}\n",
      "Traceback (most recent call last):\n",
      "  File \"/Users/girirajpurohit23/.pyenv/versions/3.11.0/lib/python3.11/site-packages/imdb/parser/http/__init__.py\", line 233, in retrieve_unicode\n",
      "    response = uopener.open(url)\n",
      "               ^^^^^^^^^^^^^^^^^\n",
      "  File \"/Users/girirajpurohit23/.pyenv/versions/3.11.0/lib/python3.11/urllib/request.py\", line 519, in open\n",
      "    response = self._open(req, data)\n",
      "               ^^^^^^^^^^^^^^^^^^^^^\n",
      "  File \"/Users/girirajpurohit23/.pyenv/versions/3.11.0/lib/python3.11/urllib/request.py\", line 536, in _open\n",
      "    result = self._call_chain(self.handle_open, protocol, protocol +\n",
      "             ^^^^^^^^^^^^^^^^^^^^^^^^^^^^^^^^^^^^^^^^^^^^^^^^^^^^^^^\n",
      "  File \"/Users/girirajpurohit23/.pyenv/versions/3.11.0/lib/python3.11/urllib/request.py\", line 496, in _call_chain\n",
      "    result = func(*args)\n",
      "             ^^^^^^^^^^^\n",
      "  File \"/Users/girirajpurohit23/.pyenv/versions/3.11.0/lib/python3.11/urllib/request.py\", line 1391, in https_open\n",
      "    return self.do_open(http.client.HTTPSConnection, req,\n",
      "           ^^^^^^^^^^^^^^^^^^^^^^^^^^^^^^^^^^^^^^^^^^^^^^\n",
      "  File \"/Users/girirajpurohit23/.pyenv/versions/3.11.0/lib/python3.11/urllib/request.py\", line 1352, in do_open\n",
      "    r = h.getresponse()\n",
      "        ^^^^^^^^^^^^^^^\n",
      "  File \"/Users/girirajpurohit23/.pyenv/versions/3.11.0/lib/python3.11/http/client.py\", line 1374, in getresponse\n",
      "    response.begin()\n",
      "  File \"/Users/girirajpurohit23/.pyenv/versions/3.11.0/lib/python3.11/http/client.py\", line 318, in begin\n",
      "    version, status, reason = self._read_status()\n",
      "                              ^^^^^^^^^^^^^^^^^^^\n",
      "  File \"/Users/girirajpurohit23/.pyenv/versions/3.11.0/lib/python3.11/http/client.py\", line 279, in _read_status\n",
      "    line = str(self.fp.readline(_MAXLINE + 1), \"iso-8859-1\")\n",
      "               ^^^^^^^^^^^^^^^^^^^^^^^^^^^^^^\n",
      "  File \"/Users/girirajpurohit23/.pyenv/versions/3.11.0/lib/python3.11/socket.py\", line 705, in readinto\n",
      "    return self._sock.recv_into(b)\n",
      "           ^^^^^^^^^^^^^^^^^^^^^^^\n",
      "  File \"/Users/girirajpurohit23/.pyenv/versions/3.11.0/lib/python3.11/ssl.py\", line 1278, in recv_into\n",
      "    return self.read(nbytes, buffer)\n",
      "           ^^^^^^^^^^^^^^^^^^^^^^^^^\n",
      "  File \"/Users/girirajpurohit23/.pyenv/versions/3.11.0/lib/python3.11/ssl.py\", line 1134, in read\n",
      "    return self._sslobj.read(len, buffer)\n",
      "           ^^^^^^^^^^^^^^^^^^^^^^^^^^^^^^\n",
      "TimeoutError: The read operation timed out\n",
      "Processing shows:  76%|███████████████▉     | 4163/5491 [35:16<11:16,  1.96it/s]2024-07-16 14:43:49,855 CRITICAL [imdbpy] /Users/girirajpurohit23/.pyenv/versions/3.11.0/lib/python3.11/site-packages/imdb/__init__.py:850: caught an exception retrieving or parsing \"plot\" info set for mopID \"0094731\" (accessSystem: http)\n",
      "Traceback (most recent call last):\n",
      "  File \"/Users/girirajpurohit23/.pyenv/versions/3.11.0/lib/python3.11/site-packages/imdb/parser/http/__init__.py\", line 233, in retrieve_unicode\n",
      "    response = uopener.open(url)\n",
      "               ^^^^^^^^^^^^^^^^^\n",
      "  File \"/Users/girirajpurohit23/.pyenv/versions/3.11.0/lib/python3.11/urllib/request.py\", line 519, in open\n",
      "    response = self._open(req, data)\n",
      "               ^^^^^^^^^^^^^^^^^^^^^\n",
      "  File \"/Users/girirajpurohit23/.pyenv/versions/3.11.0/lib/python3.11/urllib/request.py\", line 536, in _open\n",
      "    result = self._call_chain(self.handle_open, protocol, protocol +\n",
      "             ^^^^^^^^^^^^^^^^^^^^^^^^^^^^^^^^^^^^^^^^^^^^^^^^^^^^^^^\n",
      "  File \"/Users/girirajpurohit23/.pyenv/versions/3.11.0/lib/python3.11/urllib/request.py\", line 496, in _call_chain\n",
      "    result = func(*args)\n",
      "             ^^^^^^^^^^^\n",
      "  File \"/Users/girirajpurohit23/.pyenv/versions/3.11.0/lib/python3.11/urllib/request.py\", line 1391, in https_open\n",
      "    return self.do_open(http.client.HTTPSConnection, req,\n",
      "           ^^^^^^^^^^^^^^^^^^^^^^^^^^^^^^^^^^^^^^^^^^^^^^\n",
      "  File \"/Users/girirajpurohit23/.pyenv/versions/3.11.0/lib/python3.11/urllib/request.py\", line 1352, in do_open\n",
      "    r = h.getresponse()\n",
      "        ^^^^^^^^^^^^^^^\n",
      "  File \"/Users/girirajpurohit23/.pyenv/versions/3.11.0/lib/python3.11/http/client.py\", line 1374, in getresponse\n",
      "    response.begin()\n",
      "  File \"/Users/girirajpurohit23/.pyenv/versions/3.11.0/lib/python3.11/http/client.py\", line 318, in begin\n",
      "    version, status, reason = self._read_status()\n",
      "                              ^^^^^^^^^^^^^^^^^^^\n",
      "  File \"/Users/girirajpurohit23/.pyenv/versions/3.11.0/lib/python3.11/http/client.py\", line 279, in _read_status\n",
      "    line = str(self.fp.readline(_MAXLINE + 1), \"iso-8859-1\")\n",
      "               ^^^^^^^^^^^^^^^^^^^^^^^^^^^^^^\n",
      "  File \"/Users/girirajpurohit23/.pyenv/versions/3.11.0/lib/python3.11/socket.py\", line 705, in readinto\n",
      "    return self._sock.recv_into(b)\n",
      "           ^^^^^^^^^^^^^^^^^^^^^^^\n",
      "  File \"/Users/girirajpurohit23/.pyenv/versions/3.11.0/lib/python3.11/ssl.py\", line 1278, in recv_into\n",
      "    return self.read(nbytes, buffer)\n",
      "           ^^^^^^^^^^^^^^^^^^^^^^^^^\n",
      "  File \"/Users/girirajpurohit23/.pyenv/versions/3.11.0/lib/python3.11/ssl.py\", line 1134, in read\n",
      "    return self._sslobj.read(len, buffer)\n",
      "           ^^^^^^^^^^^^^^^^^^^^^^^^^^^^^^\n",
      "TimeoutError: The read operation timed out\n",
      "\n",
      "During handling of the above exception, another exception occurred:\n",
      "\n",
      "Traceback (most recent call last):\n",
      "  File \"/Users/girirajpurohit23/.pyenv/versions/3.11.0/lib/python3.11/site-packages/imdb/__init__.py\", line 848, in update\n",
      "    ret = method(mopID)\n",
      "          ^^^^^^^^^^^^^\n",
      "  File \"/Users/girirajpurohit23/.pyenv/versions/3.11.0/lib/python3.11/site-packages/imdb/parser/http/__init__.py\", line 498, in get_movie_plot\n",
      "    cont = self._retrieve(self.urls['movie_main'] % movieID + 'plotsummary')\n",
      "           ^^^^^^^^^^^^^^^^^^^^^^^^^^^^^^^^^^^^^^^^^^^^^^^^^^^^^^^^^^^^^^^^^\n",
      "  File \"/Users/girirajpurohit23/.pyenv/versions/3.11.0/lib/python3.11/site-packages/imdb/parser/http/__init__.py\", line 392, in _retrieve\n",
      "    ret = self.urlOpener.retrieve_unicode(url, size=size)\n",
      "          ^^^^^^^^^^^^^^^^^^^^^^^^^^^^^^^^^^^^^^^^^^^^^^^\n",
      "  File \"/Users/girirajpurohit23/.pyenv/versions/3.11.0/lib/python3.11/site-packages/imdb/parser/http/__init__.py\", line 261, in retrieve_unicode\n",
      "    raise IMDbDataAccessError(\n",
      "imdb._exceptions.IMDbDataAccessError: {'errcode': None, 'errmsg': 'None', 'url': 'https://www.imdb.com/title/tt0094731/plotsummary', 'proxy': '', 'exception type': 'IOError', 'original exception': TimeoutError('The read operation timed out')}\n"
     ]
    },
    {
     "name": "stdout",
     "output_type": "stream",
     "text": [
      "Error searching for cruise the world: {'errcode': None, 'errmsg': 'None', 'url': 'https://www.imdb.com/find/?q=cruise+the+world&s=tt', 'proxy': '', 'exception type': 'IOError', 'original exception': TimeoutError('The read operation timed out')}\n",
      "Error fetching data for betrayed: {'errcode': None, 'errmsg': 'None', 'url': 'https://www.imdb.com/title/tt0094731/plotsummary', 'proxy': '', 'exception type': 'IOError', 'original exception': TimeoutError('The read operation timed out')}\n"
     ]
    },
    {
     "name": "stderr",
     "output_type": "stream",
     "text": [
      "Processing shows:  76%|███████████████▉     | 4164/5491 [35:16<11:17,  1.96it/s]"
     ]
    },
    {
     "name": "stdout",
     "output_type": "stream",
     "text": [
      "Error fetching data for aahaa: 'name'\n"
     ]
    },
    {
     "name": "stderr",
     "output_type": "stream",
     "text": [
      "Processing shows:  76%|███████████████▉     | 4167/5491 [35:18<11:15,  1.96it/s]2024-07-16 14:43:52,360 CRITICAL [imdbpy] /Users/girirajpurohit23/.pyenv/versions/3.11.0/lib/python3.11/site-packages/imdb/_exceptions.py:32: IMDbDataAccessError exception raised; args: ({'errcode': None, 'errmsg': 'None', 'url': 'https://www.imdb.com/title/tt9112152/plotsummary', 'proxy': '', 'exception type': 'IOError', 'original exception': TimeoutError('The read operation timed out')},); kwds: {}\n",
      "Traceback (most recent call last):\n",
      "  File \"/Users/girirajpurohit23/.pyenv/versions/3.11.0/lib/python3.11/site-packages/imdb/parser/http/__init__.py\", line 234, in retrieve_unicode\n",
      "    content = response.read()\n",
      "              ^^^^^^^^^^^^^^^\n",
      "  File \"/Users/girirajpurohit23/.pyenv/versions/3.11.0/lib/python3.11/http/client.py\", line 459, in read\n",
      "    return self._read_chunked(amt)\n",
      "           ^^^^^^^^^^^^^^^^^^^^^^^\n",
      "  File \"/Users/girirajpurohit23/.pyenv/versions/3.11.0/lib/python3.11/http/client.py\", line 582, in _read_chunked\n",
      "    chunk_left = self._get_chunk_left()\n",
      "                 ^^^^^^^^^^^^^^^^^^^^^^\n",
      "  File \"/Users/girirajpurohit23/.pyenv/versions/3.11.0/lib/python3.11/http/client.py\", line 565, in _get_chunk_left\n",
      "    chunk_left = self._read_next_chunk_size()\n",
      "                 ^^^^^^^^^^^^^^^^^^^^^^^^^^^^\n",
      "  File \"/Users/girirajpurohit23/.pyenv/versions/3.11.0/lib/python3.11/http/client.py\", line 525, in _read_next_chunk_size\n",
      "    line = self.fp.readline(_MAXLINE + 1)\n",
      "           ^^^^^^^^^^^^^^^^^^^^^^^^^^^^^^\n",
      "  File \"/Users/girirajpurohit23/.pyenv/versions/3.11.0/lib/python3.11/socket.py\", line 705, in readinto\n",
      "    return self._sock.recv_into(b)\n",
      "           ^^^^^^^^^^^^^^^^^^^^^^^\n",
      "  File \"/Users/girirajpurohit23/.pyenv/versions/3.11.0/lib/python3.11/ssl.py\", line 1278, in recv_into\n",
      "    return self.read(nbytes, buffer)\n",
      "           ^^^^^^^^^^^^^^^^^^^^^^^^^\n",
      "  File \"/Users/girirajpurohit23/.pyenv/versions/3.11.0/lib/python3.11/ssl.py\", line 1134, in read\n",
      "    return self._sslobj.read(len, buffer)\n",
      "           ^^^^^^^^^^^^^^^^^^^^^^^^^^^^^^\n",
      "TimeoutError: The read operation timed out\n",
      "2024-07-16 14:43:52,362 CRITICAL [imdbpy] /Users/girirajpurohit23/.pyenv/versions/3.11.0/lib/python3.11/site-packages/imdb/__init__.py:850: caught an exception retrieving or parsing \"plot\" info set for mopID \"9112152\" (accessSystem: http)\n",
      "Traceback (most recent call last):\n",
      "  File \"/Users/girirajpurohit23/.pyenv/versions/3.11.0/lib/python3.11/site-packages/imdb/parser/http/__init__.py\", line 234, in retrieve_unicode\n",
      "    content = response.read()\n",
      "              ^^^^^^^^^^^^^^^\n",
      "  File \"/Users/girirajpurohit23/.pyenv/versions/3.11.0/lib/python3.11/http/client.py\", line 459, in read\n",
      "    return self._read_chunked(amt)\n",
      "           ^^^^^^^^^^^^^^^^^^^^^^^\n",
      "  File \"/Users/girirajpurohit23/.pyenv/versions/3.11.0/lib/python3.11/http/client.py\", line 582, in _read_chunked\n",
      "    chunk_left = self._get_chunk_left()\n",
      "                 ^^^^^^^^^^^^^^^^^^^^^^\n",
      "  File \"/Users/girirajpurohit23/.pyenv/versions/3.11.0/lib/python3.11/http/client.py\", line 565, in _get_chunk_left\n",
      "    chunk_left = self._read_next_chunk_size()\n",
      "                 ^^^^^^^^^^^^^^^^^^^^^^^^^^^^\n",
      "  File \"/Users/girirajpurohit23/.pyenv/versions/3.11.0/lib/python3.11/http/client.py\", line 525, in _read_next_chunk_size\n",
      "    line = self.fp.readline(_MAXLINE + 1)\n",
      "           ^^^^^^^^^^^^^^^^^^^^^^^^^^^^^^\n",
      "  File \"/Users/girirajpurohit23/.pyenv/versions/3.11.0/lib/python3.11/socket.py\", line 705, in readinto\n",
      "    return self._sock.recv_into(b)\n",
      "           ^^^^^^^^^^^^^^^^^^^^^^^\n",
      "  File \"/Users/girirajpurohit23/.pyenv/versions/3.11.0/lib/python3.11/ssl.py\", line 1278, in recv_into\n",
      "    return self.read(nbytes, buffer)\n",
      "           ^^^^^^^^^^^^^^^^^^^^^^^^^\n",
      "  File \"/Users/girirajpurohit23/.pyenv/versions/3.11.0/lib/python3.11/ssl.py\", line 1134, in read\n",
      "    return self._sslobj.read(len, buffer)\n",
      "           ^^^^^^^^^^^^^^^^^^^^^^^^^^^^^^\n",
      "TimeoutError: The read operation timed out\n",
      "\n",
      "During handling of the above exception, another exception occurred:\n",
      "\n",
      "Traceback (most recent call last):\n",
      "  File \"/Users/girirajpurohit23/.pyenv/versions/3.11.0/lib/python3.11/site-packages/imdb/__init__.py\", line 848, in update\n",
      "    ret = method(mopID)\n",
      "          ^^^^^^^^^^^^^\n",
      "  File \"/Users/girirajpurohit23/.pyenv/versions/3.11.0/lib/python3.11/site-packages/imdb/parser/http/__init__.py\", line 498, in get_movie_plot\n",
      "    cont = self._retrieve(self.urls['movie_main'] % movieID + 'plotsummary')\n",
      "           ^^^^^^^^^^^^^^^^^^^^^^^^^^^^^^^^^^^^^^^^^^^^^^^^^^^^^^^^^^^^^^^^^\n",
      "  File \"/Users/girirajpurohit23/.pyenv/versions/3.11.0/lib/python3.11/site-packages/imdb/parser/http/__init__.py\", line 392, in _retrieve\n",
      "    ret = self.urlOpener.retrieve_unicode(url, size=size)\n",
      "          ^^^^^^^^^^^^^^^^^^^^^^^^^^^^^^^^^^^^^^^^^^^^^^^\n",
      "  File \"/Users/girirajpurohit23/.pyenv/versions/3.11.0/lib/python3.11/site-packages/imdb/parser/http/__init__.py\", line 261, in retrieve_unicode\n",
      "    raise IMDbDataAccessError(\n",
      "imdb._exceptions.IMDbDataAccessError: {'errcode': None, 'errmsg': 'None', 'url': 'https://www.imdb.com/title/tt9112152/plotsummary', 'proxy': '', 'exception type': 'IOError', 'original exception': TimeoutError('The read operation timed out')}\n",
      "Processing shows:  76%|███████████████▉     | 4168/5491 [35:18<11:15,  1.96it/s]"
     ]
    },
    {
     "name": "stdout",
     "output_type": "stream",
     "text": [
      "Error fetching data for the investigation: {'errcode': None, 'errmsg': 'None', 'url': 'https://www.imdb.com/title/tt9112152/plotsummary', 'proxy': '', 'exception type': 'IOError', 'original exception': TimeoutError('The read operation timed out')}\n"
     ]
    },
    {
     "name": "stderr",
     "output_type": "stream",
     "text": [
      "Processing shows:  76%|████████████████     | 4189/5491 [35:29<11:05,  1.96it/s]"
     ]
    },
    {
     "name": "stdout",
     "output_type": "stream",
     "text": [
      "Error fetching data for the source: 'name'\n"
     ]
    },
    {
     "name": "stderr",
     "output_type": "stream",
     "text": [
      "Processing shows:  77%|████████████████▏    | 4238/5491 [35:54<10:34,  1.97it/s]"
     ]
    },
    {
     "name": "stdout",
     "output_type": "stream",
     "text": [
      "Error fetching data for marooned: 'name'\n"
     ]
    },
    {
     "name": "stderr",
     "output_type": "stream",
     "text": [
      "Processing shows:  78%|████████████████▎    | 4272/5491 [36:11<10:19,  1.97it/s]"
     ]
    },
    {
     "name": "stdout",
     "output_type": "stream",
     "text": [
      "Error fetching data for best of the best: 'name'\n"
     ]
    },
    {
     "name": "stderr",
     "output_type": "stream",
     "text": [
      "Processing shows:  79%|████████████████▌    | 4328/5491 [36:40<09:52,  1.96it/s]"
     ]
    },
    {
     "name": "stdout",
     "output_type": "stream",
     "text": [
      "Error fetching data for watchmen: 'name'\n"
     ]
    },
    {
     "name": "stderr",
     "output_type": "stream",
     "text": [
      "Processing shows:  79%|████████████████▋    | 4354/5491 [36:53<09:39,  1.96it/s]"
     ]
    },
    {
     "name": "stdout",
     "output_type": "stream",
     "text": [
      "Error fetching data for astronaut diaries: 'name'\n"
     ]
    },
    {
     "name": "stderr",
     "output_type": "stream",
     "text": [
      "Processing shows:  79%|████████████████▋    | 4362/5491 [36:57<09:34,  1.97it/s]"
     ]
    },
    {
     "name": "stdout",
     "output_type": "stream",
     "text": [
      "Error fetching data for sargam: 'name'\n"
     ]
    },
    {
     "name": "stderr",
     "output_type": "stream",
     "text": [
      "Processing shows:  80%|████████████████▋    | 4366/5491 [36:59<09:33,  1.96it/s]"
     ]
    },
    {
     "name": "stdout",
     "output_type": "stream",
     "text": [
      "Error fetching data for the leopardess: 'name'\n"
     ]
    },
    {
     "name": "stderr",
     "output_type": "stream",
     "text": [
      "Processing shows:  80%|████████████████▊    | 4382/5491 [37:07<09:26,  1.96it/s]"
     ]
    },
    {
     "name": "stdout",
     "output_type": "stream",
     "text": [
      "Error fetching data for grahan: 'name'\n"
     ]
    },
    {
     "name": "stderr",
     "output_type": "stream",
     "text": [
      "Processing shows:  80%|████████████████▉    | 4415/5491 [37:24<09:07,  1.96it/s]"
     ]
    },
    {
     "name": "stdout",
     "output_type": "stream",
     "text": [
      "Error fetching data for step up: 'name'\n"
     ]
    },
    {
     "name": "stderr",
     "output_type": "stream",
     "text": [
      "Processing shows:  81%|█████████████████    | 4448/5491 [37:41<08:52,  1.96it/s]"
     ]
    },
    {
     "name": "stdout",
     "output_type": "stream",
     "text": [
      "Error fetching data for jeena isi ka naam hai: 'name'\n"
     ]
    },
    {
     "name": "stderr",
     "output_type": "stream",
     "text": [
      "Processing shows:  81%|█████████████████    | 4460/5491 [37:47<08:45,  1.96it/s]"
     ]
    },
    {
     "name": "stdout",
     "output_type": "stream",
     "text": [
      "Error fetching data for man, woman, #metoo: 'name'\n"
     ]
    },
    {
     "name": "stderr",
     "output_type": "stream",
     "text": [
      "Processing shows:  81%|█████████████████    | 4465/5491 [37:49<08:41,  1.97it/s]"
     ]
    },
    {
     "name": "stdout",
     "output_type": "stream",
     "text": [
      "Error fetching data for marumagal: 'name'\n"
     ]
    },
    {
     "name": "stderr",
     "output_type": "stream",
     "text": [
      "Processing shows:  81%|█████████████████    | 4473/5491 [37:53<08:37,  1.97it/s]"
     ]
    },
    {
     "name": "stdout",
     "output_type": "stream",
     "text": [
      "Error fetching data for raja rani: 'name'\n"
     ]
    },
    {
     "name": "stderr",
     "output_type": "stream",
     "text": [
      "Processing shows:  82%|█████████████████▎   | 4512/5491 [38:13<08:19,  1.96it/s]"
     ]
    },
    {
     "name": "stdout",
     "output_type": "stream",
     "text": [
      "Error fetching data for body cam: 'name'\n"
     ]
    },
    {
     "name": "stderr",
     "output_type": "stream",
     "text": [
      "Processing shows:  83%|█████████████████▍   | 4573/5491 [38:44<07:49,  1.96it/s]"
     ]
    },
    {
     "name": "stdout",
     "output_type": "stream",
     "text": [
      "Error fetching data for gadhi janile ghara sundara: 'name'\n"
     ]
    },
    {
     "name": "stderr",
     "output_type": "stream",
     "text": [
      "Processing shows:  83%|█████████████████▌   | 4577/5491 [38:46<07:43,  1.97it/s]"
     ]
    },
    {
     "name": "stdout",
     "output_type": "stream",
     "text": [
      "Error fetching data for jothe jotheyali: 'name'\n"
     ]
    },
    {
     "name": "stderr",
     "output_type": "stream",
     "text": [
      "Processing shows:  84%|█████████████████▌   | 4594/5491 [38:55<07:37,  1.96it/s]"
     ]
    },
    {
     "name": "stdout",
     "output_type": "stream",
     "text": [
      "Error fetching data for poison: 'name'\n"
     ]
    },
    {
     "name": "stderr",
     "output_type": "stream",
     "text": [
      "Processing shows:  84%|█████████████████▋   | 4621/5491 [39:09<07:23,  1.96it/s]"
     ]
    },
    {
     "name": "stdout",
     "output_type": "stream",
     "text": [
      "Error fetching data for bhale basava: 'name'\n"
     ]
    },
    {
     "name": "stderr",
     "output_type": "stream",
     "text": [
      "Processing shows:  84%|█████████████████▋   | 4625/5491 [39:11<07:21,  1.96it/s]"
     ]
    },
    {
     "name": "stdout",
     "output_type": "stream",
     "text": [
      "Error fetching data for thadam: 'name'\n"
     ]
    },
    {
     "name": "stderr",
     "output_type": "stream",
     "text": [
      "Processing shows:  85%|█████████████████▊   | 4662/5491 [39:30<07:02,  1.96it/s]"
     ]
    },
    {
     "name": "stdout",
     "output_type": "stream",
     "text": [
      "Error fetching data for prithvi vallabh: 'name'\n"
     ]
    },
    {
     "name": "stderr",
     "output_type": "stream",
     "text": [
      "Processing shows:  85%|█████████████████▉   | 4692/5491 [39:45<06:47,  1.96it/s]"
     ]
    },
    {
     "name": "stdout",
     "output_type": "stream",
     "text": [
      "Error fetching data for devil's canyon: 'name'\n"
     ]
    },
    {
     "name": "stderr",
     "output_type": "stream",
     "text": [
      "Processing shows:  86%|██████████████████   | 4710/5491 [39:54<06:37,  1.96it/s]"
     ]
    },
    {
     "name": "stdout",
     "output_type": "stream",
     "text": [
      "Error fetching data for the penthouse: 'name'\n"
     ]
    },
    {
     "name": "stderr",
     "output_type": "stream",
     "text": [
      "Processing shows:  86%|██████████████████   | 4716/5491 [39:57<06:33,  1.97it/s]"
     ]
    },
    {
     "name": "stdout",
     "output_type": "stream",
     "text": [
      "Error fetching data for just maath maathalli: 'name'\n"
     ]
    },
    {
     "name": "stderr",
     "output_type": "stream",
     "text": [
      "Processing shows:  86%|██████████████████   | 4717/5491 [39:58<06:33,  1.97it/s]"
     ]
    },
    {
     "name": "stdout",
     "output_type": "stream",
     "text": [
      "Error fetching data for lajja: 'name'\n"
     ]
    },
    {
     "name": "stderr",
     "output_type": "stream",
     "text": [
      "Processing shows:  86%|██████████████████▏  | 4741/5491 [40:10<06:21,  1.96it/s]"
     ]
    },
    {
     "name": "stdout",
     "output_type": "stream",
     "text": [
      "Error fetching data for shubha mangala: 'name'\n"
     ]
    },
    {
     "name": "stderr",
     "output_type": "stream",
     "text": [
      "Processing shows:  87%|██████████████████▏  | 4751/5491 [40:15<06:16,  1.97it/s]"
     ]
    },
    {
     "name": "stdout",
     "output_type": "stream",
     "text": [
      "Error fetching data for way back home: 'name'\n"
     ]
    },
    {
     "name": "stderr",
     "output_type": "stream",
     "text": [
      "Processing shows:  87%|██████████████████▎  | 4783/5491 [40:31<06:00,  1.96it/s]"
     ]
    },
    {
     "name": "stdout",
     "output_type": "stream",
     "text": [
      "Error fetching data for naga panchami: 'name'\n"
     ]
    },
    {
     "name": "stderr",
     "output_type": "stream",
     "text": [
      "Processing shows:  87%|██████████████████▎  | 4792/5491 [40:36<05:55,  1.97it/s]"
     ]
    },
    {
     "name": "stdout",
     "output_type": "stream",
     "text": [
      "Error fetching data for marooned: 'name'\n"
     ]
    },
    {
     "name": "stderr",
     "output_type": "stream",
     "text": [
      "Processing shows:  87%|██████████████████▎  | 4796/5491 [40:38<05:52,  1.97it/s]"
     ]
    },
    {
     "name": "stdout",
     "output_type": "stream",
     "text": [
      "Error fetching data for bala shiva: 'name'\n"
     ]
    },
    {
     "name": "stderr",
     "output_type": "stream",
     "text": [
      "Processing shows:  88%|██████████████████▍  | 4835/5491 [40:58<05:33,  1.97it/s]"
     ]
    },
    {
     "name": "stdout",
     "output_type": "stream",
     "text": [
      "Error fetching data for the ride: 'name'\n"
     ]
    },
    {
     "name": "stderr",
     "output_type": "stream",
     "text": [
      "Processing shows:  88%|██████████████████▌  | 4850/5491 [41:05<05:26,  1.96it/s]"
     ]
    },
    {
     "name": "stdout",
     "output_type": "stream",
     "text": [
      "Error fetching data for garam masala: 'name'\n"
     ]
    },
    {
     "name": "stderr",
     "output_type": "stream",
     "text": [
      "Processing shows:  88%|██████████████████▌  | 4852/5491 [41:06<05:26,  1.96it/s]"
     ]
    },
    {
     "name": "stdout",
     "output_type": "stream",
     "text": [
      "Error fetching data for the exorcist: 'name'\n"
     ]
    },
    {
     "name": "stderr",
     "output_type": "stream",
     "text": [
      "Processing shows:  89%|██████████████████▋  | 4892/5491 [41:27<05:04,  1.96it/s]"
     ]
    },
    {
     "name": "stdout",
     "output_type": "stream",
     "text": [
      "Error fetching data for gurgaon: 'name'\n"
     ]
    },
    {
     "name": "stderr",
     "output_type": "stream",
     "text": [
      "Processing shows:  89%|██████████████████▊  | 4913/5491 [41:37<04:53,  1.97it/s]"
     ]
    },
    {
     "name": "stdout",
     "output_type": "stream",
     "text": [
      "Error fetching data for mahanayak: 'name'\n"
     ]
    },
    {
     "name": "stderr",
     "output_type": "stream",
     "text": [
      "Processing shows:  91%|███████████████████  | 4985/5491 [42:15<04:16,  1.98it/s]"
     ]
    },
    {
     "name": "stdout",
     "output_type": "stream",
     "text": [
      "Error fetching data for oggy and the cockroaches: 'name'\n"
     ]
    },
    {
     "name": "stderr",
     "output_type": "stream",
     "text": [
      "Processing shows:  91%|███████████████████▏ | 5018/5491 [42:31<03:59,  1.97it/s]"
     ]
    },
    {
     "name": "stdout",
     "output_type": "stream",
     "text": [
      "Error fetching data for yudh: 'name'\n"
     ]
    },
    {
     "name": "stderr",
     "output_type": "stream",
     "text": [
      "Processing shows:  92%|███████████████████▎ | 5038/5491 [42:41<03:49,  1.98it/s]"
     ]
    },
    {
     "name": "stdout",
     "output_type": "stream",
     "text": [
      "Error fetching data for west is best: 'name'\n"
     ]
    },
    {
     "name": "stderr",
     "output_type": "stream",
     "text": [
      "Processing shows:  93%|███████████████████▌ | 5122/5491 [43:24<03:07,  1.97it/s]"
     ]
    },
    {
     "name": "stdout",
     "output_type": "stream",
     "text": [
      "Error fetching data for pavitra bandham: 'name'\n"
     ]
    },
    {
     "name": "stderr",
     "output_type": "stream",
     "text": [
      "Processing shows:  94%|███████████████████▋ | 5154/5491 [43:40<02:50,  1.97it/s]"
     ]
    },
    {
     "name": "stdout",
     "output_type": "stream",
     "text": [
      "Error fetching data for mudhal vanakkam: 'name'\n"
     ]
    },
    {
     "name": "stderr",
     "output_type": "stream",
     "text": [
      "Processing shows:  94%|███████████████████▊ | 5188/5491 [43:57<02:33,  1.98it/s]"
     ]
    },
    {
     "name": "stdout",
     "output_type": "stream",
     "text": [
      "Error fetching data for the hunter: 'name'\n"
     ]
    },
    {
     "name": "stderr",
     "output_type": "stream",
     "text": [
      "Processing shows:  95%|███████████████████▊ | 5189/5491 [43:58<02:32,  1.97it/s]"
     ]
    },
    {
     "name": "stdout",
     "output_type": "stream",
     "text": [
      "Error fetching data for geethanjali: 'name'\n"
     ]
    },
    {
     "name": "stderr",
     "output_type": "stream",
     "text": [
      "Processing shows: 100%|█████████████████████| 5491/5491 [46:31<00:00,  1.97it/s]\n"
     ]
    },
    {
     "data": {
      "text/html": [
       "<div>\n",
       "<style scoped>\n",
       "    .dataframe tbody tr th:only-of-type {\n",
       "        vertical-align: middle;\n",
       "    }\n",
       "\n",
       "    .dataframe tbody tr th {\n",
       "        vertical-align: top;\n",
       "    }\n",
       "\n",
       "    .dataframe thead th {\n",
       "        text-align: right;\n",
       "    }\n",
       "</style>\n",
       "<table border=\"1\" class=\"dataframe\">\n",
       "  <thead>\n",
       "    <tr style=\"text-align: right;\">\n",
       "      <th></th>\n",
       "      <th>Original Title</th>\n",
       "      <th>IMDb ID</th>\n",
       "      <th>Title</th>\n",
       "      <th>Year</th>\n",
       "      <th>Genres</th>\n",
       "      <th>Directors</th>\n",
       "      <th>Cast</th>\n",
       "      <th>Writers</th>\n",
       "      <th>Rating</th>\n",
       "      <th>Plot</th>\n",
       "    </tr>\n",
       "  </thead>\n",
       "  <tbody>\n",
       "    <tr>\n",
       "      <th>0</th>\n",
       "      <td>undekhi (tamil)</td>\n",
       "      <td>None</td>\n",
       "      <td>None</td>\n",
       "      <td>NaN</td>\n",
       "      <td>None</td>\n",
       "      <td>None</td>\n",
       "      <td>None</td>\n",
       "      <td>None</td>\n",
       "      <td>NaN</td>\n",
       "      <td>None</td>\n",
       "    </tr>\n",
       "    <tr>\n",
       "      <th>1</th>\n",
       "      <td>mirzapur</td>\n",
       "      <td>6473300</td>\n",
       "      <td>Mirzapur</td>\n",
       "      <td>2018.0</td>\n",
       "      <td>Action, Crime, Drama, Thriller</td>\n",
       "      <td>None</td>\n",
       "      <td>Ali Fazal, Rasika Dugal, Shweta Tripathi, Pank...</td>\n",
       "      <td>Puneet Krishna, Puneet Krishna, Puneet Krishna</td>\n",
       "      <td>8.5</td>\n",
       "      <td>The iron-fisted Akhandanand Tripathi is a mill...</td>\n",
       "    </tr>\n",
       "    <tr>\n",
       "      <th>2</th>\n",
       "      <td>ki kore bolbo tomay</td>\n",
       "      <td>12547152</td>\n",
       "      <td>Ki Kore Bolbo Tomay</td>\n",
       "      <td>2019.0</td>\n",
       "      <td>Drama</td>\n",
       "      <td>None</td>\n",
       "      <td>Krushal Ahuja, Swastika Dutta, Ayan, Rahul Dev...</td>\n",
       "      <td>Soham Abhiram, Manali Karia, Shashi Mittal</td>\n",
       "      <td>5.7</td>\n",
       "      <td>Ki Kore Bolbo Tomay is a Bengali drama series ...</td>\n",
       "    </tr>\n",
       "    <tr>\n",
       "      <th>3</th>\n",
       "      <td>banni chow home delivery</td>\n",
       "      <td>20253040</td>\n",
       "      <td>Banni Chow Home Delivery</td>\n",
       "      <td>2022.0</td>\n",
       "      <td>Drama</td>\n",
       "      <td>None</td>\n",
       "      <td>Ulka Gupta, Pravisht Mishra, Ansh Pandey, Parv...</td>\n",
       "      <td>Snehasish Chakraborty, Mallika Dutt, Sonakshi ...</td>\n",
       "      <td>5.2</td>\n",
       "      <td>[Banni, an independent and brave woman who run...</td>\n",
       "    </tr>\n",
       "    <tr>\n",
       "      <th>4</th>\n",
       "      <td>dark side of the ring</td>\n",
       "      <td>9159144</td>\n",
       "      <td>Dark Side of the Ring</td>\n",
       "      <td>2019.0</td>\n",
       "      <td>Documentary, Drama, History, Sport</td>\n",
       "      <td>None</td>\n",
       "      <td>Chris Jericho, Steve Kasan, James E. Cornette,...</td>\n",
       "      <td>Evan Husney, Evan Husney, Evan Husney</td>\n",
       "      <td>8.7</td>\n",
       "      <td>[From backstage controversies to mysterious de...</td>\n",
       "    </tr>\n",
       "    <tr>\n",
       "      <th>...</th>\n",
       "      <td>...</td>\n",
       "      <td>...</td>\n",
       "      <td>...</td>\n",
       "      <td>...</td>\n",
       "      <td>...</td>\n",
       "      <td>...</td>\n",
       "      <td>...</td>\n",
       "      <td>...</td>\n",
       "      <td>...</td>\n",
       "      <td>...</td>\n",
       "    </tr>\n",
       "    <tr>\n",
       "      <th>5486</th>\n",
       "      <td>india on film</td>\n",
       "      <td>None</td>\n",
       "      <td>None</td>\n",
       "      <td>NaN</td>\n",
       "      <td>None</td>\n",
       "      <td>None</td>\n",
       "      <td>None</td>\n",
       "      <td>None</td>\n",
       "      <td>NaN</td>\n",
       "      <td>None</td>\n",
       "    </tr>\n",
       "    <tr>\n",
       "      <th>5487</th>\n",
       "      <td>sankellu</td>\n",
       "      <td>None</td>\n",
       "      <td>None</td>\n",
       "      <td>NaN</td>\n",
       "      <td>None</td>\n",
       "      <td>None</td>\n",
       "      <td>None</td>\n",
       "      <td>None</td>\n",
       "      <td>NaN</td>\n",
       "      <td>None</td>\n",
       "    </tr>\n",
       "    <tr>\n",
       "      <th>5488</th>\n",
       "      <td>mangalyam thanthunaane</td>\n",
       "      <td>None</td>\n",
       "      <td>None</td>\n",
       "      <td>NaN</td>\n",
       "      <td>None</td>\n",
       "      <td>None</td>\n",
       "      <td>None</td>\n",
       "      <td>None</td>\n",
       "      <td>NaN</td>\n",
       "      <td>None</td>\n",
       "    </tr>\n",
       "    <tr>\n",
       "      <th>5489</th>\n",
       "      <td>el presidente: corruption game</td>\n",
       "      <td>None</td>\n",
       "      <td>None</td>\n",
       "      <td>NaN</td>\n",
       "      <td>None</td>\n",
       "      <td>None</td>\n",
       "      <td>None</td>\n",
       "      <td>None</td>\n",
       "      <td>NaN</td>\n",
       "      <td>None</td>\n",
       "    </tr>\n",
       "    <tr>\n",
       "      <th>5490</th>\n",
       "      <td>she creates change</td>\n",
       "      <td>26314967</td>\n",
       "      <td>She Creates Change</td>\n",
       "      <td>2023.0</td>\n",
       "      <td>Documentary, Animation, Action, Biography</td>\n",
       "      <td>None</td>\n",
       "      <td>Dilshad Vadsaria, Freida Pinto, Adhir Kalyan, ...</td>\n",
       "      <td>Siqi Song, Warsan Shire</td>\n",
       "      <td>NaN</td>\n",
       "      <td>\"She Creates Change\" is an anthology series th...</td>\n",
       "    </tr>\n",
       "  </tbody>\n",
       "</table>\n",
       "<p>5491 rows × 10 columns</p>\n",
       "</div>"
      ],
      "text/plain": [
       "                      Original Title   IMDb ID                     Title  \\\n",
       "0                    undekhi (tamil)      None                      None   \n",
       "1                           mirzapur   6473300                  Mirzapur   \n",
       "2                ki kore bolbo tomay  12547152       Ki Kore Bolbo Tomay   \n",
       "3           banni chow home delivery  20253040  Banni Chow Home Delivery   \n",
       "4              dark side of the ring   9159144     Dark Side of the Ring   \n",
       "...                              ...       ...                       ...   \n",
       "5486                   india on film      None                      None   \n",
       "5487                        sankellu      None                      None   \n",
       "5488          mangalyam thanthunaane      None                      None   \n",
       "5489  el presidente: corruption game      None                      None   \n",
       "5490              she creates change  26314967        She Creates Change   \n",
       "\n",
       "        Year                                     Genres Directors  \\\n",
       "0        NaN                                       None      None   \n",
       "1     2018.0             Action, Crime, Drama, Thriller      None   \n",
       "2     2019.0                                      Drama      None   \n",
       "3     2022.0                                      Drama      None   \n",
       "4     2019.0         Documentary, Drama, History, Sport      None   \n",
       "...      ...                                        ...       ...   \n",
       "5486     NaN                                       None      None   \n",
       "5487     NaN                                       None      None   \n",
       "5488     NaN                                       None      None   \n",
       "5489     NaN                                       None      None   \n",
       "5490  2023.0  Documentary, Animation, Action, Biography      None   \n",
       "\n",
       "                                                   Cast  \\\n",
       "0                                                  None   \n",
       "1     Ali Fazal, Rasika Dugal, Shweta Tripathi, Pank...   \n",
       "2     Krushal Ahuja, Swastika Dutta, Ayan, Rahul Dev...   \n",
       "3     Ulka Gupta, Pravisht Mishra, Ansh Pandey, Parv...   \n",
       "4     Chris Jericho, Steve Kasan, James E. Cornette,...   \n",
       "...                                                 ...   \n",
       "5486                                               None   \n",
       "5487                                               None   \n",
       "5488                                               None   \n",
       "5489                                               None   \n",
       "5490  Dilshad Vadsaria, Freida Pinto, Adhir Kalyan, ...   \n",
       "\n",
       "                                                Writers  Rating  \\\n",
       "0                                                  None     NaN   \n",
       "1        Puneet Krishna, Puneet Krishna, Puneet Krishna     8.5   \n",
       "2            Soham Abhiram, Manali Karia, Shashi Mittal     5.7   \n",
       "3     Snehasish Chakraborty, Mallika Dutt, Sonakshi ...     5.2   \n",
       "4                 Evan Husney, Evan Husney, Evan Husney     8.7   \n",
       "...                                                 ...     ...   \n",
       "5486                                               None     NaN   \n",
       "5487                                               None     NaN   \n",
       "5488                                               None     NaN   \n",
       "5489                                               None     NaN   \n",
       "5490                            Siqi Song, Warsan Shire     NaN   \n",
       "\n",
       "                                                   Plot  \n",
       "0                                                  None  \n",
       "1     The iron-fisted Akhandanand Tripathi is a mill...  \n",
       "2     Ki Kore Bolbo Tomay is a Bengali drama series ...  \n",
       "3     [Banni, an independent and brave woman who run...  \n",
       "4     [From backstage controversies to mysterious de...  \n",
       "...                                                 ...  \n",
       "5486                                               None  \n",
       "5487                                               None  \n",
       "5488                                               None  \n",
       "5489                                               None  \n",
       "5490  \"She Creates Change\" is an anthology series th...  \n",
       "\n",
       "[5491 rows x 10 columns]"
      ]
     },
     "execution_count": 57,
     "metadata": {},
     "output_type": "execute_result"
    }
   ],
   "source": [
    "from imdb import Cinemagoer\n",
    "import pandas as pd\n",
    "from concurrent.futures import ThreadPoolExecutor, as_completed\n",
    "from tqdm import tqdm\n",
    "import time\n",
    "\n",
    "\n",
    "ia = Cinemagoer()\n",
    "\n",
    "# Function to search for a show by name and get its IMDb ID\n",
    "def search_show_id(show_name):\n",
    "    try:\n",
    "        search_results = ia.search_movie(show_name)\n",
    "        if search_results:\n",
    "            for result in search_results:\n",
    "                if result['title'].strip().lower() == show_name.strip().lower():\n",
    "                    return result.movieID\n",
    "    except Exception as e:\n",
    "        print(f\"Error searching for {show_name}: {e}\")\n",
    "    return None\n",
    "\n",
    "# Function to extract show data by name\n",
    "def extract_show_data(show_name):\n",
    "    show_data = {\n",
    "        'Original Title': show_name,\n",
    "        'IMDb ID': None,\n",
    "        'Title': None,\n",
    "        'Year': None,\n",
    "        'Genres': None,\n",
    "        'Directors': None,\n",
    "        'Cast': None,\n",
    "        'Writers': None,\n",
    "        'Rating': None,\n",
    "        'Plot': None\n",
    "    }\n",
    "\n",
    "    imdb_id = search_show_id(show_name)\n",
    "    if imdb_id:\n",
    "        try:\n",
    "            show = ia.get_movie(imdb_id)\n",
    "            # Confirm the title again before fetching details\n",
    "            if show.get('title', '').strip().lower() == show_name.strip().lower():\n",
    "                show_data['IMDb ID'] = show.movieID\n",
    "                show_data['Title'] = show.get('title', None)\n",
    "                show_data['Year'] = show.get('year', None)\n",
    "                show_data['Genres'] = ', '.join(show.get('genres', [])) if show.get('genres') else None\n",
    "                show_data['Directors'] = ', '.join([director['name'] for director in show.get('directors', [])]) if show.get('directors') else None\n",
    "                show_data['Cast'] = ', '.join([cast['name'] for cast in show.get('cast', [])[:10]]) if show.get('cast') else None\n",
    "                show_data['Writers'] = ', '.join([writer['name'] for writer in show.get('writers', [])]) if show.get('writers') else None\n",
    "                show_data['Rating'] = show.get('rating', None)\n",
    "                show_data['Plot'] = show.get('plot outline') or show.get('plot', None)\n",
    "        except Exception as e:\n",
    "            print(f\"Error fetching data for {show_name}: {e}\")\n",
    "\n",
    "    return show_data\n",
    "\n",
    "\n",
    "data = pd.read_csv(\"final_data.csv\")  \n",
    "show_names = data['name'].iloc[6000:]  \n",
    "\n",
    "# Extract data for each show using parallel processing with a progress bar\n",
    "shows_data = []\n",
    "with ThreadPoolExecutor(max_workers=10) as executor:\n",
    "    futures = {executor.submit(extract_show_data, name): name for name in show_names}\n",
    "    for future in tqdm(as_completed(futures), total=len(futures), desc=\"Processing shows\"):\n",
    "        shows_data.append(future.result())\n",
    "        time.sleep(0.5)  # To avoid hitting the API rate limit\n",
    "\n",
    "\n",
    "ordered_shows_data = sorted(shows_data, key=lambda x: show_names.tolist().index(x['Original Title']))\n",
    "\n",
    "\n",
    "df = pd.DataFrame(ordered_shows_data)\n",
    "\n",
    "\n",
    "df.to_csv(\"output_data.csv\", index=False)\n",
    "\n",
    "df"
   ]
  },
  {
   "cell_type": "code",
   "execution_count": 59,
   "id": "a8ac6374-7f39-42b7-b68e-b49c7f54446a",
   "metadata": {},
   "outputs": [],
   "source": [
    "df.to_csv(\"rest.csv\", index=False)"
   ]
  },
  {
   "cell_type": "code",
   "execution_count": 61,
   "id": "d51d2aa7-8fb5-4fac-9d78-cfb2b8992203",
   "metadata": {},
   "outputs": [],
   "source": [
    "\n",
    "df1 = pd.read_csv('0-1000.csv')\n",
    "df2 = pd.read_csv('1000-3000.csv')\n",
    "df3 = pd.read_csv('3000-6000.csv')\n",
    "df4 = pd.read_csv('rest.csv')\n",
    "\n",
    "\n",
    "merged_df = pd.concat([df1, df2, df3, df4], ignore_index=True)\n",
    "\n",
    "\n",
    "merged_df.to_csv(\"merged_output.csv\", index=False)\n"
   ]
  },
  {
   "cell_type": "code",
   "execution_count": null,
   "id": "99c3e65d-480a-4b9a-9ce9-d95379b12c7c",
   "metadata": {},
   "outputs": [],
   "source": []
  }
 ],
 "metadata": {
  "kernelspec": {
   "display_name": "python3.11",
   "language": "python",
   "name": "python3.11"
  },
  "language_info": {
   "codemirror_mode": {
    "name": "ipython",
    "version": 3
   },
   "file_extension": ".py",
   "mimetype": "text/x-python",
   "name": "python",
   "nbconvert_exporter": "python",
   "pygments_lexer": "ipython3",
   "version": "3.11.0"
  }
 },
 "nbformat": 4,
 "nbformat_minor": 5
}
